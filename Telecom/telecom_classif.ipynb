{
 "cells": [
  {
   "cell_type": "markdown",
   "id": "a2d81c70",
   "metadata": {
    "toc": true
   },
   "source": [
    "<h1>Содержание<span class=\"tocSkip\"></span></h1>\n",
    "<div class=\"toc\"><ul class=\"toc-item\"><li><ul class=\"toc-item\"><li><span><a href=\"#Описание-услуг\" data-toc-modified-id=\"Описание-услуг-0.1\"><span class=\"toc-item-num\">0.1&nbsp;&nbsp;</span>Описание услуг</a></span></li><li><span><a href=\"#Описание-данных\" data-toc-modified-id=\"Описание-данных-0.2\"><span class=\"toc-item-num\">0.2&nbsp;&nbsp;</span>Описание данных</a></span></li><li><span><a href=\"#Описание-полей-данных\" data-toc-modified-id=\"Описание-полей-данных-0.3\"><span class=\"toc-item-num\">0.3&nbsp;&nbsp;</span>Описание полей данных</a></span></li></ul></li><li><span><a href=\"#Исследование-данных\" data-toc-modified-id=\"Исследование-данных-1\"><span class=\"toc-item-num\">1&nbsp;&nbsp;</span>Исследование данных</a></span><ul class=\"toc-item\"><li><span><a href=\"#Таблица-df_contract---информация-о-договоре\" data-toc-modified-id=\"Таблица-df_contract---информация-о-договоре-1.1\"><span class=\"toc-item-num\">1.1&nbsp;&nbsp;</span>Таблица df_contract - информация о договоре</a></span></li><li><span><a href=\"#Таблица-df_personal---персональные-данные-клиента\" data-toc-modified-id=\"Таблица-df_personal---персональные-данные-клиента-1.2\"><span class=\"toc-item-num\">1.2&nbsp;&nbsp;</span>Таблица df_personal - персональные данные клиента</a></span></li><li><span><a href=\"#Таблица-df_internet---информация-об-интернет-улугах\" data-toc-modified-id=\"Таблица-df_internet---информация-об-интернет-улугах-1.3\"><span class=\"toc-item-num\">1.3&nbsp;&nbsp;</span>Таблица df_internet - информация об интернет-улугах</a></span></li><li><span><a href=\"#Таблица-df_phone---информация-об-улугах-телефонии\" data-toc-modified-id=\"Таблица-df_phone---информация-об-улугах-телефонии-1.4\"><span class=\"toc-item-num\">1.4&nbsp;&nbsp;</span>Таблица df_phone - информация об улугах телефонии</a></span><ul class=\"toc-item\"><li><span><a href=\"#Выводы:\" data-toc-modified-id=\"Выводы:-1.4.1\"><span class=\"toc-item-num\">1.4.1&nbsp;&nbsp;</span>Выводы:</a></span></li></ul></li></ul></li><li><span><a href=\"#План-работы\" data-toc-modified-id=\"План-работы-2\"><span class=\"toc-item-num\">2&nbsp;&nbsp;</span>План работы</a></span></li><li><span><a href=\"#Предобработка-данных\" data-toc-modified-id=\"Предобработка-данных-3\"><span class=\"toc-item-num\">3&nbsp;&nbsp;</span>Предобработка данных</a></span></li><li><span><a href=\"#Анализ-данных\" data-toc-modified-id=\"Анализ-данных-4\"><span class=\"toc-item-num\">4&nbsp;&nbsp;</span>Анализ данных</a></span></li><li><span><a href=\"#Разделение-и-кодирование-выборки\" data-toc-modified-id=\"Разделение-и-кодирование-выборки-5\"><span class=\"toc-item-num\">5&nbsp;&nbsp;</span>Разделение и кодирование выборки</a></span></li><li><span><a href=\"#Обучение-моделей\" data-toc-modified-id=\"Обучение-моделей-6\"><span class=\"toc-item-num\">6&nbsp;&nbsp;</span>Обучение моделей</a></span></li><li><span><a href=\"#Тестирование-лучшей-модели\" data-toc-modified-id=\"Тестирование-лучшей-модели-7\"><span class=\"toc-item-num\">7&nbsp;&nbsp;</span>Тестирование лучшей модели</a></span></li><li><span><a href=\"#Отчет-по-работе\" data-toc-modified-id=\"Отчет-по-работе-8\"><span class=\"toc-item-num\">8&nbsp;&nbsp;</span>Отчет по работе</a></span></li></ul></div>"
   ]
  },
  {
   "cell_type": "markdown",
   "id": "7e2ffcd0-a664-41cc-9de2-fa57f8fda421",
   "metadata": {},
   "source": [
    "# Телеком"
   ]
  },
  {
   "cell_type": "markdown",
   "id": "1009f7f0-e0b8-4bb7-98c5-59605f2aebe1",
   "metadata": {},
   "source": [
    "Оператор связи «Ниединогоразрыва.ком» хочет научиться прогнозировать отток клиентов. Если выяснится, что пользователь планирует уйти, ему будут предложены промокоды и специальные условия. Команда оператора собрала персональные данные о некоторых клиентах, информацию об их тарифах и договорах.\n",
    "\n",
    "### Описание услуг\n",
    "\n",
    "\n",
    "Оператор предоставляет два основных типа услуг: \n",
    "\n",
    "1. Стационарную телефонную связь. Возможно подключение телефонного аппарата к нескольким линиям одновременно.\n",
    "2. Интернет. Подключение может быть двух типов: через телефонную линию (DSL*,* от англ. *digital subscriber line*, «цифровая абонентская линия») или оптоволоконный кабель (*Fiber optic*).  \n",
    "\n",
    "Также доступны такие услуги:\n",
    "\n",
    "- Интернет-безопасность: антивирус (*DeviceProtection*) и блокировка небезопасных сайтов (*OnlineSecurity*);\n",
    "- Выделенная линия технической поддержки (*TechSupport*);\n",
    "- Облачное хранилище файлов для резервного копирования данных (*OnlineBackup*);\n",
    "- Стриминговое телевидение (*StreamingTV*) и каталог фильмов (*StreamingMovies*).\n",
    "\n",
    "За услуги клиенты могут платить каждый месяц или заключить договор на 1–2 года. Доступны различные способы расчёта и возможность получения электронного чека.\n",
    "\n",
    "### Описание данных\n",
    "\n",
    "Данные состоят из файлов, полученных из разных источников:\n",
    "\n",
    "- `contract_new.csv` — информация о договоре;\n",
    "- `personal_new.csv` — персональные данные клиента;\n",
    "- `internet_new.csv` — информация об интернет-услугах;\n",
    "- `phone_new.csv` — информация об услугах телефонии.\n",
    "\n",
    "### Описание полей данных\n",
    "\n",
    "- `BeginDate` – дата начала пользования услугами.\n",
    "- `EndDate` – дата окончания пользования услугами.\n",
    "- `Type` – тип оплаты: ежемесячный, годовой и тд.\n",
    "- `PaperlessBilling` – безналичный расчет.\n",
    "- `PaymentMethod` – способ оплаты.\n",
    "- `MonthlyCharges` – ежемесячные траты на услуги.\n",
    "- `TotalCharges` – всего потрачено денег на услуги.\n",
    "- `Dependents` – наличие иждивенцев.\n",
    "- `Senior Citizen` – наличие пенсионного статуса по возрасту.\n",
    "- `Partner` – наличие супруга(и).\n",
    "- `MultipleLines` – наличие возможности ведения параллельных линий во время звонка.\n",
    "\n",
    "Во всех файлах столбец `customerID` содержит код клиента.\n",
    "\n",
    "Информация о договорах актуальна на 1 февраля 2020."
   ]
  },
  {
   "cell_type": "markdown",
   "id": "f8441fed-bca5-490e-aaa6-7afea0d71f14",
   "metadata": {},
   "source": [
    "## Исследование данных"
   ]
  },
  {
   "cell_type": "markdown",
   "id": "8b0433b2-ed33-4db9-a38d-c92750673312",
   "metadata": {},
   "source": [
    "* Импортируем нужные библиотеки"
   ]
  },
  {
   "cell_type": "code",
   "execution_count": 1,
   "id": "15cea6b6-b1eb-4dce-8412-012edafbdfd3",
   "metadata": {},
   "outputs": [],
   "source": [
    "import pandas as pd\n",
    "import numpy as np\n",
    "import warnings\n",
    "\n",
    "from tqdm.notebook import tqdm\n",
    "import matplotlib.pyplot as plt\n",
    "import seaborn as sns\n",
    "import lightgbm as lgbm\n",
    "from catboost import CatBoostClassifier, Pool\n",
    "import time\n",
    "from math import sqrt\n",
    "\n",
    "\n",
    "from sklearn.compose import make_column_transformer\n",
    "from sklearn.ensemble import RandomForestClassifier\n",
    "from sklearn.linear_model import LogisticRegression\n",
    "from sklearn.linear_model import Ridge\n",
    "from sklearn.metrics import roc_auc_score, roc_curve, accuracy_score, confusion_matrix, f1_score\n",
    "from sklearn.model_selection import (\n",
    "    GridSearchCV, \n",
    "    RandomizedSearchCV,\n",
    "    train_test_split,\n",
    "    cross_validate\n",
    ")\n",
    "from sklearn.pipeline import make_pipeline\n",
    "from sklearn.preprocessing import (\n",
    "    OneHotEncoder,\n",
    "    OrdinalEncoder,\n",
    "    StandardScaler\n",
    ")\n",
    "\n",
    "warnings.filterwarnings('ignore')\n",
    "\n",
    "RANDOM_SEED=80523"
   ]
  },
  {
   "cell_type": "markdown",
   "id": "f05bad0c-2ed6-4e2c-8f8d-1d970911b4bb",
   "metadata": {},
   "source": [
    "* Загрузим данные"
   ]
  },
  {
   "cell_type": "code",
   "execution_count": 2,
   "id": "9e6e4c91-295f-45b3-b1aa-4573355212b3",
   "metadata": {},
   "outputs": [],
   "source": [
    "try:\n",
    "    df_contract = pd.read_csv(\"/datasets/contract_new.csv\")\n",
    "    df_personal = pd.read_csv(\"/datasets/personal_new.csv\")\n",
    "    df_internet = pd.read_csv(\"/datasets/internet_new.csv\")\n",
    "    df_phone = pd.read_csv(\"/datasets/phone_new.csv\")\n",
    "    \n",
    "except:\n",
    "    df_contract = pd.read_csv(\"contract_new.csv\")\n",
    "    df_personal = pd.read_csv(\"personal_new.csv\")\n",
    "    df_internet = pd.read_csv(\"internet_new.csv\")\n",
    "    df_phone = pd.read_csv(\"phone_new.csv\")"
   ]
  },
  {
   "cell_type": "code",
   "execution_count": 3,
   "id": "7b5df7d8-93d7-4c0d-a322-bc6f271d89e8",
   "metadata": {},
   "outputs": [],
   "source": [
    "# Функция для просмотра датасетов\n",
    "def check(dataset):\n",
    "    display(dataset.info())\n",
    "    display(dataset.head())\n",
    "    display(dataset.describe())\n",
    "    print('Количество дубликатов ',dataset.duplicated().sum())\n",
    "    print('Количество пропусков ', dataset.isna().sum())"
   ]
  },
  {
   "cell_type": "markdown",
   "id": "34ff04b9-e1e1-4b32-aba1-a43c0b88677e",
   "metadata": {},
   "source": [
    "### Таблица df_contract - информация о договоре"
   ]
  },
  {
   "cell_type": "code",
   "execution_count": 4,
   "id": "a0ed1453-f0a8-44dc-9613-9791514b26b6",
   "metadata": {},
   "outputs": [
    {
     "name": "stdout",
     "output_type": "stream",
     "text": [
      "<class 'pandas.core.frame.DataFrame'>\n",
      "RangeIndex: 7043 entries, 0 to 7042\n",
      "Data columns (total 8 columns):\n",
      " #   Column            Non-Null Count  Dtype  \n",
      "---  ------            --------------  -----  \n",
      " 0   customerID        7043 non-null   object \n",
      " 1   BeginDate         7043 non-null   object \n",
      " 2   EndDate           7043 non-null   object \n",
      " 3   Type              7043 non-null   object \n",
      " 4   PaperlessBilling  7043 non-null   object \n",
      " 5   PaymentMethod     7043 non-null   object \n",
      " 6   MonthlyCharges    7043 non-null   float64\n",
      " 7   TotalCharges      7043 non-null   object \n",
      "dtypes: float64(1), object(7)\n",
      "memory usage: 440.3+ KB\n"
     ]
    },
    {
     "data": {
      "text/plain": [
       "None"
      ]
     },
     "metadata": {},
     "output_type": "display_data"
    },
    {
     "data": {
      "text/html": [
       "<div>\n",
       "<style scoped>\n",
       "    .dataframe tbody tr th:only-of-type {\n",
       "        vertical-align: middle;\n",
       "    }\n",
       "\n",
       "    .dataframe tbody tr th {\n",
       "        vertical-align: top;\n",
       "    }\n",
       "\n",
       "    .dataframe thead th {\n",
       "        text-align: right;\n",
       "    }\n",
       "</style>\n",
       "<table border=\"1\" class=\"dataframe\">\n",
       "  <thead>\n",
       "    <tr style=\"text-align: right;\">\n",
       "      <th></th>\n",
       "      <th>customerID</th>\n",
       "      <th>BeginDate</th>\n",
       "      <th>EndDate</th>\n",
       "      <th>Type</th>\n",
       "      <th>PaperlessBilling</th>\n",
       "      <th>PaymentMethod</th>\n",
       "      <th>MonthlyCharges</th>\n",
       "      <th>TotalCharges</th>\n",
       "    </tr>\n",
       "  </thead>\n",
       "  <tbody>\n",
       "    <tr>\n",
       "      <th>0</th>\n",
       "      <td>7590-VHVEG</td>\n",
       "      <td>2020-01-01</td>\n",
       "      <td>No</td>\n",
       "      <td>Month-to-month</td>\n",
       "      <td>Yes</td>\n",
       "      <td>Electronic check</td>\n",
       "      <td>29.85</td>\n",
       "      <td>31.04</td>\n",
       "    </tr>\n",
       "    <tr>\n",
       "      <th>1</th>\n",
       "      <td>5575-GNVDE</td>\n",
       "      <td>2017-04-01</td>\n",
       "      <td>No</td>\n",
       "      <td>One year</td>\n",
       "      <td>No</td>\n",
       "      <td>Mailed check</td>\n",
       "      <td>56.95</td>\n",
       "      <td>2071.84</td>\n",
       "    </tr>\n",
       "    <tr>\n",
       "      <th>2</th>\n",
       "      <td>3668-QPYBK</td>\n",
       "      <td>2019-10-01</td>\n",
       "      <td>No</td>\n",
       "      <td>Month-to-month</td>\n",
       "      <td>Yes</td>\n",
       "      <td>Mailed check</td>\n",
       "      <td>53.85</td>\n",
       "      <td>226.17</td>\n",
       "    </tr>\n",
       "    <tr>\n",
       "      <th>3</th>\n",
       "      <td>7795-CFOCW</td>\n",
       "      <td>2016-05-01</td>\n",
       "      <td>No</td>\n",
       "      <td>One year</td>\n",
       "      <td>No</td>\n",
       "      <td>Bank transfer (automatic)</td>\n",
       "      <td>42.30</td>\n",
       "      <td>1960.6</td>\n",
       "    </tr>\n",
       "    <tr>\n",
       "      <th>4</th>\n",
       "      <td>9237-HQITU</td>\n",
       "      <td>2019-09-01</td>\n",
       "      <td>No</td>\n",
       "      <td>Month-to-month</td>\n",
       "      <td>Yes</td>\n",
       "      <td>Electronic check</td>\n",
       "      <td>70.70</td>\n",
       "      <td>353.5</td>\n",
       "    </tr>\n",
       "  </tbody>\n",
       "</table>\n",
       "</div>"
      ],
      "text/plain": [
       "   customerID   BeginDate EndDate            Type PaperlessBilling  \\\n",
       "0  7590-VHVEG  2020-01-01      No  Month-to-month              Yes   \n",
       "1  5575-GNVDE  2017-04-01      No        One year               No   \n",
       "2  3668-QPYBK  2019-10-01      No  Month-to-month              Yes   \n",
       "3  7795-CFOCW  2016-05-01      No        One year               No   \n",
       "4  9237-HQITU  2019-09-01      No  Month-to-month              Yes   \n",
       "\n",
       "               PaymentMethod  MonthlyCharges TotalCharges  \n",
       "0           Electronic check           29.85        31.04  \n",
       "1               Mailed check           56.95      2071.84  \n",
       "2               Mailed check           53.85       226.17  \n",
       "3  Bank transfer (automatic)           42.30       1960.6  \n",
       "4           Electronic check           70.70        353.5  "
      ]
     },
     "metadata": {},
     "output_type": "display_data"
    },
    {
     "data": {
      "text/html": [
       "<div>\n",
       "<style scoped>\n",
       "    .dataframe tbody tr th:only-of-type {\n",
       "        vertical-align: middle;\n",
       "    }\n",
       "\n",
       "    .dataframe tbody tr th {\n",
       "        vertical-align: top;\n",
       "    }\n",
       "\n",
       "    .dataframe thead th {\n",
       "        text-align: right;\n",
       "    }\n",
       "</style>\n",
       "<table border=\"1\" class=\"dataframe\">\n",
       "  <thead>\n",
       "    <tr style=\"text-align: right;\">\n",
       "      <th></th>\n",
       "      <th>MonthlyCharges</th>\n",
       "    </tr>\n",
       "  </thead>\n",
       "  <tbody>\n",
       "    <tr>\n",
       "      <th>count</th>\n",
       "      <td>7043.000000</td>\n",
       "    </tr>\n",
       "    <tr>\n",
       "      <th>mean</th>\n",
       "      <td>64.761692</td>\n",
       "    </tr>\n",
       "    <tr>\n",
       "      <th>std</th>\n",
       "      <td>30.090047</td>\n",
       "    </tr>\n",
       "    <tr>\n",
       "      <th>min</th>\n",
       "      <td>18.250000</td>\n",
       "    </tr>\n",
       "    <tr>\n",
       "      <th>25%</th>\n",
       "      <td>35.500000</td>\n",
       "    </tr>\n",
       "    <tr>\n",
       "      <th>50%</th>\n",
       "      <td>70.350000</td>\n",
       "    </tr>\n",
       "    <tr>\n",
       "      <th>75%</th>\n",
       "      <td>89.850000</td>\n",
       "    </tr>\n",
       "    <tr>\n",
       "      <th>max</th>\n",
       "      <td>118.750000</td>\n",
       "    </tr>\n",
       "  </tbody>\n",
       "</table>\n",
       "</div>"
      ],
      "text/plain": [
       "       MonthlyCharges\n",
       "count     7043.000000\n",
       "mean        64.761692\n",
       "std         30.090047\n",
       "min         18.250000\n",
       "25%         35.500000\n",
       "50%         70.350000\n",
       "75%         89.850000\n",
       "max        118.750000"
      ]
     },
     "metadata": {},
     "output_type": "display_data"
    },
    {
     "name": "stdout",
     "output_type": "stream",
     "text": [
      "Количество дубликатов  0\n",
      "Количество пропусков  customerID          0\n",
      "BeginDate           0\n",
      "EndDate             0\n",
      "Type                0\n",
      "PaperlessBilling    0\n",
      "PaymentMethod       0\n",
      "MonthlyCharges      0\n",
      "TotalCharges        0\n",
      "dtype: int64\n"
     ]
    }
   ],
   "source": [
    "check(df_contract)"
   ]
  },
  {
   "cell_type": "markdown",
   "id": "f7c0d4ff-3828-4037-bf06-990f13284e75",
   "metadata": {},
   "source": [
    "- `BeginDate` – дата начала пользования услугами.\n",
    "- `EndDate` – дата окончания пользования услугами.\n",
    "- `Type` – тип оплаты: ежемесячный, годовой и тд.\n",
    "- `PaperlessBilling` – безналичный расчет.\n",
    "- `PaymentMethod` – способ оплаты.\n",
    "- `MonthlyCharges` – ежемесячные траты на услуги.\n",
    "- `TotalCharges` – всего потрачено денег на услуги."
   ]
  },
  {
   "cell_type": "markdown",
   "id": "e2f24f60-a94a-4d21-acf1-077a2fc299fe",
   "metadata": {},
   "source": [
    "Пропусков и дубликатов нет.  \n",
    "Первым, что бросается в глаза - типы данных.   \n",
    "Нужно будет поменять тип `BeginDate` и `EndDate` на datetime, `TotalCharges` на float.  \n",
    "Также `EndTime` содержит целевой признак, нужно будет его вытащить. Если в колоке значение No - значит клиент не ушел от нашего оператора связи\n"
   ]
  },
  {
   "cell_type": "code",
   "execution_count": 5,
   "id": "c077b21d-2868-4819-9f3d-7db1e1e026e4",
   "metadata": {},
   "outputs": [
    {
     "data": {
      "text/plain": [
       "No            5942\n",
       "2020-01-01      39\n",
       "2019-12-01      38\n",
       "2018-11-01      35\n",
       "2019-09-01      32\n",
       "              ... \n",
       "2014-09-01       2\n",
       "2014-12-01       2\n",
       "2014-06-01       1\n",
       "2014-10-01       1\n",
       "2014-11-01       1\n",
       "Name: EndDate, Length: 67, dtype: int64"
      ]
     },
     "execution_count": 5,
     "metadata": {},
     "output_type": "execute_result"
    }
   ],
   "source": [
    "df_contract['EndDate'].value_counts()"
   ]
  },
  {
   "cell_type": "code",
   "execution_count": 6,
   "id": "dfbccf22-5fd2-4ddd-bd60-37e055c25fba",
   "metadata": {},
   "outputs": [
    {
     "data": {
      "text/plain": [
       "Month-to-month    3875\n",
       "Two year          1695\n",
       "One year          1473\n",
       "Name: Type, dtype: int64"
      ]
     },
     "execution_count": 6,
     "metadata": {},
     "output_type": "execute_result"
    }
   ],
   "source": [
    "df_contract['Type'].value_counts()"
   ]
  },
  {
   "cell_type": "code",
   "execution_count": 7,
   "id": "65bd95ac-8607-4059-b056-50dec710724f",
   "metadata": {},
   "outputs": [
    {
     "data": {
      "text/plain": [
       "Electronic check             2365\n",
       "Mailed check                 1612\n",
       "Bank transfer (automatic)    1544\n",
       "Credit card (automatic)      1522\n",
       "Name: PaymentMethod, dtype: int64"
      ]
     },
     "execution_count": 7,
     "metadata": {},
     "output_type": "execute_result"
    }
   ],
   "source": [
    "df_contract['PaymentMethod'].value_counts()"
   ]
  },
  {
   "cell_type": "markdown",
   "id": "bc4f02d7-30d3-416a-a7a5-45145a50989b",
   "metadata": {},
   "source": [
    "### Таблица df_personal - персональные данные клиента"
   ]
  },
  {
   "cell_type": "code",
   "execution_count": 8,
   "id": "4b3697b4-962e-46e9-8560-ed0a0e631d9a",
   "metadata": {},
   "outputs": [
    {
     "name": "stdout",
     "output_type": "stream",
     "text": [
      "<class 'pandas.core.frame.DataFrame'>\n",
      "RangeIndex: 7043 entries, 0 to 7042\n",
      "Data columns (total 5 columns):\n",
      " #   Column         Non-Null Count  Dtype \n",
      "---  ------         --------------  ----- \n",
      " 0   customerID     7043 non-null   object\n",
      " 1   gender         7043 non-null   object\n",
      " 2   SeniorCitizen  7043 non-null   int64 \n",
      " 3   Partner        7043 non-null   object\n",
      " 4   Dependents     7043 non-null   object\n",
      "dtypes: int64(1), object(4)\n",
      "memory usage: 275.2+ KB\n"
     ]
    },
    {
     "data": {
      "text/plain": [
       "None"
      ]
     },
     "metadata": {},
     "output_type": "display_data"
    },
    {
     "data": {
      "text/html": [
       "<div>\n",
       "<style scoped>\n",
       "    .dataframe tbody tr th:only-of-type {\n",
       "        vertical-align: middle;\n",
       "    }\n",
       "\n",
       "    .dataframe tbody tr th {\n",
       "        vertical-align: top;\n",
       "    }\n",
       "\n",
       "    .dataframe thead th {\n",
       "        text-align: right;\n",
       "    }\n",
       "</style>\n",
       "<table border=\"1\" class=\"dataframe\">\n",
       "  <thead>\n",
       "    <tr style=\"text-align: right;\">\n",
       "      <th></th>\n",
       "      <th>customerID</th>\n",
       "      <th>gender</th>\n",
       "      <th>SeniorCitizen</th>\n",
       "      <th>Partner</th>\n",
       "      <th>Dependents</th>\n",
       "    </tr>\n",
       "  </thead>\n",
       "  <tbody>\n",
       "    <tr>\n",
       "      <th>0</th>\n",
       "      <td>7590-VHVEG</td>\n",
       "      <td>Female</td>\n",
       "      <td>0</td>\n",
       "      <td>Yes</td>\n",
       "      <td>No</td>\n",
       "    </tr>\n",
       "    <tr>\n",
       "      <th>1</th>\n",
       "      <td>5575-GNVDE</td>\n",
       "      <td>Male</td>\n",
       "      <td>0</td>\n",
       "      <td>No</td>\n",
       "      <td>No</td>\n",
       "    </tr>\n",
       "    <tr>\n",
       "      <th>2</th>\n",
       "      <td>3668-QPYBK</td>\n",
       "      <td>Male</td>\n",
       "      <td>0</td>\n",
       "      <td>No</td>\n",
       "      <td>No</td>\n",
       "    </tr>\n",
       "    <tr>\n",
       "      <th>3</th>\n",
       "      <td>7795-CFOCW</td>\n",
       "      <td>Male</td>\n",
       "      <td>0</td>\n",
       "      <td>No</td>\n",
       "      <td>No</td>\n",
       "    </tr>\n",
       "    <tr>\n",
       "      <th>4</th>\n",
       "      <td>9237-HQITU</td>\n",
       "      <td>Female</td>\n",
       "      <td>0</td>\n",
       "      <td>No</td>\n",
       "      <td>No</td>\n",
       "    </tr>\n",
       "  </tbody>\n",
       "</table>\n",
       "</div>"
      ],
      "text/plain": [
       "   customerID  gender  SeniorCitizen Partner Dependents\n",
       "0  7590-VHVEG  Female              0     Yes         No\n",
       "1  5575-GNVDE    Male              0      No         No\n",
       "2  3668-QPYBK    Male              0      No         No\n",
       "3  7795-CFOCW    Male              0      No         No\n",
       "4  9237-HQITU  Female              0      No         No"
      ]
     },
     "metadata": {},
     "output_type": "display_data"
    },
    {
     "data": {
      "text/html": [
       "<div>\n",
       "<style scoped>\n",
       "    .dataframe tbody tr th:only-of-type {\n",
       "        vertical-align: middle;\n",
       "    }\n",
       "\n",
       "    .dataframe tbody tr th {\n",
       "        vertical-align: top;\n",
       "    }\n",
       "\n",
       "    .dataframe thead th {\n",
       "        text-align: right;\n",
       "    }\n",
       "</style>\n",
       "<table border=\"1\" class=\"dataframe\">\n",
       "  <thead>\n",
       "    <tr style=\"text-align: right;\">\n",
       "      <th></th>\n",
       "      <th>SeniorCitizen</th>\n",
       "    </tr>\n",
       "  </thead>\n",
       "  <tbody>\n",
       "    <tr>\n",
       "      <th>count</th>\n",
       "      <td>7043.000000</td>\n",
       "    </tr>\n",
       "    <tr>\n",
       "      <th>mean</th>\n",
       "      <td>0.162147</td>\n",
       "    </tr>\n",
       "    <tr>\n",
       "      <th>std</th>\n",
       "      <td>0.368612</td>\n",
       "    </tr>\n",
       "    <tr>\n",
       "      <th>min</th>\n",
       "      <td>0.000000</td>\n",
       "    </tr>\n",
       "    <tr>\n",
       "      <th>25%</th>\n",
       "      <td>0.000000</td>\n",
       "    </tr>\n",
       "    <tr>\n",
       "      <th>50%</th>\n",
       "      <td>0.000000</td>\n",
       "    </tr>\n",
       "    <tr>\n",
       "      <th>75%</th>\n",
       "      <td>0.000000</td>\n",
       "    </tr>\n",
       "    <tr>\n",
       "      <th>max</th>\n",
       "      <td>1.000000</td>\n",
       "    </tr>\n",
       "  </tbody>\n",
       "</table>\n",
       "</div>"
      ],
      "text/plain": [
       "       SeniorCitizen\n",
       "count    7043.000000\n",
       "mean        0.162147\n",
       "std         0.368612\n",
       "min         0.000000\n",
       "25%         0.000000\n",
       "50%         0.000000\n",
       "75%         0.000000\n",
       "max         1.000000"
      ]
     },
     "metadata": {},
     "output_type": "display_data"
    },
    {
     "name": "stdout",
     "output_type": "stream",
     "text": [
      "Количество дубликатов  0\n",
      "Количество пропусков  customerID       0\n",
      "gender           0\n",
      "SeniorCitizen    0\n",
      "Partner          0\n",
      "Dependents       0\n",
      "dtype: int64\n"
     ]
    }
   ],
   "source": [
    "check(df_personal)"
   ]
  },
  {
   "cell_type": "markdown",
   "id": "a7b21066-e44b-476c-b5ab-e285e16cedbe",
   "metadata": {},
   "source": [
    "- `gender` – пол человека\n",
    "- `Senior Citizen` – наличие пенсионного статуса по возрасту.\n",
    "- `Partner` – наличие супруга(и).\n",
    "- `Dependents` – наличие иждивенцев."
   ]
  },
  {
   "cell_type": "markdown",
   "id": "b3ff02dd-1cab-4006-a2ae-6ddeaa3fabbe",
   "metadata": {},
   "source": [
    "Пропусков и дубликатов нет.  \n",
    "Нужно сменить тип `SeniorCitizen` на object , так как он принимает значение 0 либо 1"
   ]
  },
  {
   "cell_type": "markdown",
   "id": "ff15504e-da3f-445c-be4b-262d51c44407",
   "metadata": {},
   "source": [
    "### Таблица df_internet - информация об интернет-улугах"
   ]
  },
  {
   "cell_type": "code",
   "execution_count": 9,
   "id": "90c252d8-e5ea-4be5-9f35-55c55faefe63",
   "metadata": {},
   "outputs": [
    {
     "name": "stdout",
     "output_type": "stream",
     "text": [
      "<class 'pandas.core.frame.DataFrame'>\n",
      "RangeIndex: 5517 entries, 0 to 5516\n",
      "Data columns (total 8 columns):\n",
      " #   Column            Non-Null Count  Dtype \n",
      "---  ------            --------------  ----- \n",
      " 0   customerID        5517 non-null   object\n",
      " 1   InternetService   5517 non-null   object\n",
      " 2   OnlineSecurity    5517 non-null   object\n",
      " 3   OnlineBackup      5517 non-null   object\n",
      " 4   DeviceProtection  5517 non-null   object\n",
      " 5   TechSupport       5517 non-null   object\n",
      " 6   StreamingTV       5517 non-null   object\n",
      " 7   StreamingMovies   5517 non-null   object\n",
      "dtypes: object(8)\n",
      "memory usage: 344.9+ KB\n"
     ]
    },
    {
     "data": {
      "text/plain": [
       "None"
      ]
     },
     "metadata": {},
     "output_type": "display_data"
    },
    {
     "data": {
      "text/html": [
       "<div>\n",
       "<style scoped>\n",
       "    .dataframe tbody tr th:only-of-type {\n",
       "        vertical-align: middle;\n",
       "    }\n",
       "\n",
       "    .dataframe tbody tr th {\n",
       "        vertical-align: top;\n",
       "    }\n",
       "\n",
       "    .dataframe thead th {\n",
       "        text-align: right;\n",
       "    }\n",
       "</style>\n",
       "<table border=\"1\" class=\"dataframe\">\n",
       "  <thead>\n",
       "    <tr style=\"text-align: right;\">\n",
       "      <th></th>\n",
       "      <th>customerID</th>\n",
       "      <th>InternetService</th>\n",
       "      <th>OnlineSecurity</th>\n",
       "      <th>OnlineBackup</th>\n",
       "      <th>DeviceProtection</th>\n",
       "      <th>TechSupport</th>\n",
       "      <th>StreamingTV</th>\n",
       "      <th>StreamingMovies</th>\n",
       "    </tr>\n",
       "  </thead>\n",
       "  <tbody>\n",
       "    <tr>\n",
       "      <th>0</th>\n",
       "      <td>7590-VHVEG</td>\n",
       "      <td>DSL</td>\n",
       "      <td>No</td>\n",
       "      <td>Yes</td>\n",
       "      <td>No</td>\n",
       "      <td>No</td>\n",
       "      <td>No</td>\n",
       "      <td>No</td>\n",
       "    </tr>\n",
       "    <tr>\n",
       "      <th>1</th>\n",
       "      <td>5575-GNVDE</td>\n",
       "      <td>DSL</td>\n",
       "      <td>Yes</td>\n",
       "      <td>No</td>\n",
       "      <td>Yes</td>\n",
       "      <td>No</td>\n",
       "      <td>No</td>\n",
       "      <td>No</td>\n",
       "    </tr>\n",
       "    <tr>\n",
       "      <th>2</th>\n",
       "      <td>3668-QPYBK</td>\n",
       "      <td>DSL</td>\n",
       "      <td>Yes</td>\n",
       "      <td>Yes</td>\n",
       "      <td>No</td>\n",
       "      <td>No</td>\n",
       "      <td>No</td>\n",
       "      <td>No</td>\n",
       "    </tr>\n",
       "    <tr>\n",
       "      <th>3</th>\n",
       "      <td>7795-CFOCW</td>\n",
       "      <td>DSL</td>\n",
       "      <td>Yes</td>\n",
       "      <td>No</td>\n",
       "      <td>Yes</td>\n",
       "      <td>Yes</td>\n",
       "      <td>No</td>\n",
       "      <td>No</td>\n",
       "    </tr>\n",
       "    <tr>\n",
       "      <th>4</th>\n",
       "      <td>9237-HQITU</td>\n",
       "      <td>Fiber optic</td>\n",
       "      <td>No</td>\n",
       "      <td>No</td>\n",
       "      <td>No</td>\n",
       "      <td>No</td>\n",
       "      <td>No</td>\n",
       "      <td>No</td>\n",
       "    </tr>\n",
       "  </tbody>\n",
       "</table>\n",
       "</div>"
      ],
      "text/plain": [
       "   customerID InternetService OnlineSecurity OnlineBackup DeviceProtection  \\\n",
       "0  7590-VHVEG             DSL             No          Yes               No   \n",
       "1  5575-GNVDE             DSL            Yes           No              Yes   \n",
       "2  3668-QPYBK             DSL            Yes          Yes               No   \n",
       "3  7795-CFOCW             DSL            Yes           No              Yes   \n",
       "4  9237-HQITU     Fiber optic             No           No               No   \n",
       "\n",
       "  TechSupport StreamingTV StreamingMovies  \n",
       "0          No          No              No  \n",
       "1          No          No              No  \n",
       "2          No          No              No  \n",
       "3         Yes          No              No  \n",
       "4          No          No              No  "
      ]
     },
     "metadata": {},
     "output_type": "display_data"
    },
    {
     "data": {
      "text/html": [
       "<div>\n",
       "<style scoped>\n",
       "    .dataframe tbody tr th:only-of-type {\n",
       "        vertical-align: middle;\n",
       "    }\n",
       "\n",
       "    .dataframe tbody tr th {\n",
       "        vertical-align: top;\n",
       "    }\n",
       "\n",
       "    .dataframe thead th {\n",
       "        text-align: right;\n",
       "    }\n",
       "</style>\n",
       "<table border=\"1\" class=\"dataframe\">\n",
       "  <thead>\n",
       "    <tr style=\"text-align: right;\">\n",
       "      <th></th>\n",
       "      <th>customerID</th>\n",
       "      <th>InternetService</th>\n",
       "      <th>OnlineSecurity</th>\n",
       "      <th>OnlineBackup</th>\n",
       "      <th>DeviceProtection</th>\n",
       "      <th>TechSupport</th>\n",
       "      <th>StreamingTV</th>\n",
       "      <th>StreamingMovies</th>\n",
       "    </tr>\n",
       "  </thead>\n",
       "  <tbody>\n",
       "    <tr>\n",
       "      <th>count</th>\n",
       "      <td>5517</td>\n",
       "      <td>5517</td>\n",
       "      <td>5517</td>\n",
       "      <td>5517</td>\n",
       "      <td>5517</td>\n",
       "      <td>5517</td>\n",
       "      <td>5517</td>\n",
       "      <td>5517</td>\n",
       "    </tr>\n",
       "    <tr>\n",
       "      <th>unique</th>\n",
       "      <td>5517</td>\n",
       "      <td>2</td>\n",
       "      <td>2</td>\n",
       "      <td>2</td>\n",
       "      <td>2</td>\n",
       "      <td>2</td>\n",
       "      <td>2</td>\n",
       "      <td>2</td>\n",
       "    </tr>\n",
       "    <tr>\n",
       "      <th>top</th>\n",
       "      <td>7590-VHVEG</td>\n",
       "      <td>Fiber optic</td>\n",
       "      <td>No</td>\n",
       "      <td>No</td>\n",
       "      <td>No</td>\n",
       "      <td>No</td>\n",
       "      <td>No</td>\n",
       "      <td>No</td>\n",
       "    </tr>\n",
       "    <tr>\n",
       "      <th>freq</th>\n",
       "      <td>1</td>\n",
       "      <td>3096</td>\n",
       "      <td>3498</td>\n",
       "      <td>3088</td>\n",
       "      <td>3095</td>\n",
       "      <td>3473</td>\n",
       "      <td>2810</td>\n",
       "      <td>2785</td>\n",
       "    </tr>\n",
       "  </tbody>\n",
       "</table>\n",
       "</div>"
      ],
      "text/plain": [
       "        customerID InternetService OnlineSecurity OnlineBackup  \\\n",
       "count         5517            5517           5517         5517   \n",
       "unique        5517               2              2            2   \n",
       "top     7590-VHVEG     Fiber optic             No           No   \n",
       "freq             1            3096           3498         3088   \n",
       "\n",
       "       DeviceProtection TechSupport StreamingTV StreamingMovies  \n",
       "count              5517        5517        5517            5517  \n",
       "unique                2           2           2               2  \n",
       "top                  No          No          No              No  \n",
       "freq               3095        3473        2810            2785  "
      ]
     },
     "metadata": {},
     "output_type": "display_data"
    },
    {
     "name": "stdout",
     "output_type": "stream",
     "text": [
      "Количество дубликатов  0\n",
      "Количество пропусков  customerID          0\n",
      "InternetService     0\n",
      "OnlineSecurity      0\n",
      "OnlineBackup        0\n",
      "DeviceProtection    0\n",
      "TechSupport         0\n",
      "StreamingTV         0\n",
      "StreamingMovies     0\n",
      "dtype: int64\n"
     ]
    }
   ],
   "source": [
    "check(df_internet)"
   ]
  },
  {
   "cell_type": "markdown",
   "id": "7eb42128-5533-4bcf-8a22-8c9fb234851a",
   "metadata": {},
   "source": [
    "Пропусков и дубликатов нет.  \n",
    "Менять типы не нужно - везде категории.  \n",
    "В этой таблице данные только о 5517 клиентах, но всего их 7043 -> пропуски в данных"
   ]
  },
  {
   "cell_type": "markdown",
   "id": "4a476218-c7e5-4b0e-950d-d2c19b45b721",
   "metadata": {},
   "source": [
    "### Таблица df_phone - информация об улугах телефонии"
   ]
  },
  {
   "cell_type": "code",
   "execution_count": 10,
   "id": "9bc30074-cd2c-49b8-8a29-200a0b07cc1b",
   "metadata": {},
   "outputs": [
    {
     "name": "stdout",
     "output_type": "stream",
     "text": [
      "<class 'pandas.core.frame.DataFrame'>\n",
      "RangeIndex: 6361 entries, 0 to 6360\n",
      "Data columns (total 2 columns):\n",
      " #   Column         Non-Null Count  Dtype \n",
      "---  ------         --------------  ----- \n",
      " 0   customerID     6361 non-null   object\n",
      " 1   MultipleLines  6361 non-null   object\n",
      "dtypes: object(2)\n",
      "memory usage: 99.5+ KB\n"
     ]
    },
    {
     "data": {
      "text/plain": [
       "None"
      ]
     },
     "metadata": {},
     "output_type": "display_data"
    },
    {
     "data": {
      "text/html": [
       "<div>\n",
       "<style scoped>\n",
       "    .dataframe tbody tr th:only-of-type {\n",
       "        vertical-align: middle;\n",
       "    }\n",
       "\n",
       "    .dataframe tbody tr th {\n",
       "        vertical-align: top;\n",
       "    }\n",
       "\n",
       "    .dataframe thead th {\n",
       "        text-align: right;\n",
       "    }\n",
       "</style>\n",
       "<table border=\"1\" class=\"dataframe\">\n",
       "  <thead>\n",
       "    <tr style=\"text-align: right;\">\n",
       "      <th></th>\n",
       "      <th>customerID</th>\n",
       "      <th>MultipleLines</th>\n",
       "    </tr>\n",
       "  </thead>\n",
       "  <tbody>\n",
       "    <tr>\n",
       "      <th>0</th>\n",
       "      <td>5575-GNVDE</td>\n",
       "      <td>No</td>\n",
       "    </tr>\n",
       "    <tr>\n",
       "      <th>1</th>\n",
       "      <td>3668-QPYBK</td>\n",
       "      <td>No</td>\n",
       "    </tr>\n",
       "    <tr>\n",
       "      <th>2</th>\n",
       "      <td>9237-HQITU</td>\n",
       "      <td>No</td>\n",
       "    </tr>\n",
       "    <tr>\n",
       "      <th>3</th>\n",
       "      <td>9305-CDSKC</td>\n",
       "      <td>Yes</td>\n",
       "    </tr>\n",
       "    <tr>\n",
       "      <th>4</th>\n",
       "      <td>1452-KIOVK</td>\n",
       "      <td>Yes</td>\n",
       "    </tr>\n",
       "  </tbody>\n",
       "</table>\n",
       "</div>"
      ],
      "text/plain": [
       "   customerID MultipleLines\n",
       "0  5575-GNVDE            No\n",
       "1  3668-QPYBK            No\n",
       "2  9237-HQITU            No\n",
       "3  9305-CDSKC           Yes\n",
       "4  1452-KIOVK           Yes"
      ]
     },
     "metadata": {},
     "output_type": "display_data"
    },
    {
     "data": {
      "text/html": [
       "<div>\n",
       "<style scoped>\n",
       "    .dataframe tbody tr th:only-of-type {\n",
       "        vertical-align: middle;\n",
       "    }\n",
       "\n",
       "    .dataframe tbody tr th {\n",
       "        vertical-align: top;\n",
       "    }\n",
       "\n",
       "    .dataframe thead th {\n",
       "        text-align: right;\n",
       "    }\n",
       "</style>\n",
       "<table border=\"1\" class=\"dataframe\">\n",
       "  <thead>\n",
       "    <tr style=\"text-align: right;\">\n",
       "      <th></th>\n",
       "      <th>customerID</th>\n",
       "      <th>MultipleLines</th>\n",
       "    </tr>\n",
       "  </thead>\n",
       "  <tbody>\n",
       "    <tr>\n",
       "      <th>count</th>\n",
       "      <td>6361</td>\n",
       "      <td>6361</td>\n",
       "    </tr>\n",
       "    <tr>\n",
       "      <th>unique</th>\n",
       "      <td>6361</td>\n",
       "      <td>2</td>\n",
       "    </tr>\n",
       "    <tr>\n",
       "      <th>top</th>\n",
       "      <td>5575-GNVDE</td>\n",
       "      <td>No</td>\n",
       "    </tr>\n",
       "    <tr>\n",
       "      <th>freq</th>\n",
       "      <td>1</td>\n",
       "      <td>3390</td>\n",
       "    </tr>\n",
       "  </tbody>\n",
       "</table>\n",
       "</div>"
      ],
      "text/plain": [
       "        customerID MultipleLines\n",
       "count         6361          6361\n",
       "unique        6361             2\n",
       "top     5575-GNVDE            No\n",
       "freq             1          3390"
      ]
     },
     "metadata": {},
     "output_type": "display_data"
    },
    {
     "name": "stdout",
     "output_type": "stream",
     "text": [
      "Количество дубликатов  0\n",
      "Количество пропусков  customerID       0\n",
      "MultipleLines    0\n",
      "dtype: int64\n"
     ]
    }
   ],
   "source": [
    "check(df_phone)"
   ]
  },
  {
   "cell_type": "markdown",
   "id": "325dc740-22b7-42fe-9949-d93ed969822d",
   "metadata": {},
   "source": [
    "- `MultipleLines` – наличие возможности ведения параллельных линий во время звонка."
   ]
  },
  {
   "cell_type": "markdown",
   "id": "1a338fee-4138-42a0-874c-b1b144c4ec3d",
   "metadata": {},
   "source": [
    "Пропусков и дубликатов нет.  \n",
    "Менять типы не нужно - одна категория.  \n",
    "В этой таблице данные только о 6361 клиентах, но всего их 7043 -> пропуски в данных."
   ]
  },
  {
   "cell_type": "markdown",
   "id": "00bfbab9-18fd-4cba-ab06-932d77e3ded7",
   "metadata": {},
   "source": [
    "#### Выводы:\n",
    "Загузили четыре таблицы \n",
    "- `df_contract` - информация о договоре  \n",
    "- `df_personal` - персональные данные клиента  \n",
    "- `df_internet` - информация об интернет-услугах                         \n",
    "- `df_phone` - информация об услугах телефонии   \n",
    "В первых двух таблицах - 7043 строк с уникальными данными о клиентах , в двух остальных уже меньше - 5517 и 6361 соответственно.  \n",
    "Пропуски и дубликаты во всех данных отсутствуют.  "
   ]
  },
  {
   "cell_type": "markdown",
   "id": "12681837-c278-4086-ab94-4235719167f9",
   "metadata": {},
   "source": [
    "## План работы\n",
    "1) Изменить типы данных в таблице\n",
    "2) Объединить таблицы по customer id, данные не должны потеряться, там где пропуски, будет стоять Nan\n",
    "3) Подумать как заполнить пропуски\n",
    "4) Выделить целевой признак\n",
    "5) Визуализировать данные, посмотреть есть ли аномалии, какие столбцы можно будет и вовсе удалить \n",
    "5) Разделить данные на выборки c test_size = 0.25\n",
    "6) OHE для категориальных данных ( для лин моделей и случайного леса)\n",
    "7) Масштабирвоание численных данных (для лин моделей)\n",
    "8) Подобрать лучшие гиперпараметры для RandomForest, CatBoost , обучить модели\n",
    "9) Сравнить целевую мтерику roc auc для LogisticRegressor, RandomForest, CatBoost\n",
    "10) Протестировать лучшую модель\n",
    "11) Построить матрицу ошибок, посмотреть важность признаков\n"
   ]
  },
  {
   "cell_type": "markdown",
   "id": "ffbb3525-f783-45a7-bf85-f4a2b2ea3444",
   "metadata": {},
   "source": [
    "## Предобработка данных"
   ]
  },
  {
   "cell_type": "markdown",
   "id": "d036c407-9b0c-4fd2-94fe-b310160e850d",
   "metadata": {},
   "source": [
    "* Выделим целевой признак "
   ]
  },
  {
   "cell_type": "markdown",
   "id": "cf4a3745-e9a0-46f1-a056-9664eeff2563",
   "metadata": {},
   "source": [
    "Выделим целевой признак ухода клиента из компании `Exited`. Если 0 - значит все еще клиент, 1 - челеовек ушел "
   ]
  },
  {
   "cell_type": "code",
   "execution_count": 11,
   "id": "5de9ba8e-d3f5-4a43-a39e-fca355462a32",
   "metadata": {},
   "outputs": [],
   "source": [
    "df_contract['Exited'] = (df_contract['EndDate'] != 'No').astype(int)"
   ]
  },
  {
   "cell_type": "markdown",
   "id": "04c42b2a-9976-48e1-b646-d15babee7d64",
   "metadata": {},
   "source": [
    "* Изменим некоторые типы данных   \n",
    "Если в EndTime стоит No, то клиент еще не ушел -> заменим на дату выгрузки датасета - 01-02-2020"
   ]
  },
  {
   "cell_type": "code",
   "execution_count": 12,
   "id": "d6461081-35c3-400d-bb2c-93b57286dd1b",
   "metadata": {},
   "outputs": [
    {
     "name": "stdout",
     "output_type": "stream",
     "text": [
      "<class 'pandas.core.frame.DataFrame'>\n",
      "RangeIndex: 7043 entries, 0 to 7042\n",
      "Data columns (total 9 columns):\n",
      " #   Column            Non-Null Count  Dtype         \n",
      "---  ------            --------------  -----         \n",
      " 0   customerID        7043 non-null   object        \n",
      " 1   BeginDate         7043 non-null   datetime64[ns]\n",
      " 2   EndDate           7043 non-null   datetime64[ns]\n",
      " 3   Type              7043 non-null   object        \n",
      " 4   PaperlessBilling  7043 non-null   object        \n",
      " 5   PaymentMethod     7043 non-null   object        \n",
      " 6   MonthlyCharges    7043 non-null   float64       \n",
      " 7   TotalCharges      7032 non-null   float64       \n",
      " 8   Exited            7043 non-null   int32         \n",
      "dtypes: datetime64[ns](2), float64(2), int32(1), object(4)\n",
      "memory usage: 467.8+ KB\n"
     ]
    }
   ],
   "source": [
    "df_contract['EndDate'] = df_contract['EndDate'].replace(['No'], ['2020-02-01'])\n",
    "df_contract['BeginDate'] = pd.to_datetime(df_contract['BeginDate'])\n",
    "df_contract['EndDate'] = pd.to_datetime(df_contract['EndDate'])\n",
    "df_contract['TotalCharges'] =  pd.to_numeric(df_contract['TotalCharges'], errors ='coerce')\n",
    "df_contract.info()"
   ]
  },
  {
   "cell_type": "markdown",
   "id": "b55a04da-878f-4142-8e68-1d6ad82e3bfd",
   "metadata": {},
   "source": [
    "В `TotalCharges` появились пропуски"
   ]
  },
  {
   "cell_type": "code",
   "execution_count": 13,
   "id": "85a738f6-07a4-4ca9-b34b-66bab726880e",
   "metadata": {},
   "outputs": [
    {
     "data": {
      "text/html": [
       "<div>\n",
       "<style scoped>\n",
       "    .dataframe tbody tr th:only-of-type {\n",
       "        vertical-align: middle;\n",
       "    }\n",
       "\n",
       "    .dataframe tbody tr th {\n",
       "        vertical-align: top;\n",
       "    }\n",
       "\n",
       "    .dataframe thead th {\n",
       "        text-align: right;\n",
       "    }\n",
       "</style>\n",
       "<table border=\"1\" class=\"dataframe\">\n",
       "  <thead>\n",
       "    <tr style=\"text-align: right;\">\n",
       "      <th></th>\n",
       "      <th>customerID</th>\n",
       "      <th>BeginDate</th>\n",
       "      <th>EndDate</th>\n",
       "      <th>Type</th>\n",
       "      <th>PaperlessBilling</th>\n",
       "      <th>PaymentMethod</th>\n",
       "      <th>MonthlyCharges</th>\n",
       "      <th>TotalCharges</th>\n",
       "      <th>Exited</th>\n",
       "    </tr>\n",
       "  </thead>\n",
       "  <tbody>\n",
       "    <tr>\n",
       "      <th>488</th>\n",
       "      <td>4472-LVYGI</td>\n",
       "      <td>2020-02-01</td>\n",
       "      <td>2020-02-01</td>\n",
       "      <td>Two year</td>\n",
       "      <td>Yes</td>\n",
       "      <td>Bank transfer (automatic)</td>\n",
       "      <td>52.55</td>\n",
       "      <td>NaN</td>\n",
       "      <td>0</td>\n",
       "    </tr>\n",
       "    <tr>\n",
       "      <th>753</th>\n",
       "      <td>3115-CZMZD</td>\n",
       "      <td>2020-02-01</td>\n",
       "      <td>2020-02-01</td>\n",
       "      <td>Two year</td>\n",
       "      <td>No</td>\n",
       "      <td>Mailed check</td>\n",
       "      <td>20.25</td>\n",
       "      <td>NaN</td>\n",
       "      <td>0</td>\n",
       "    </tr>\n",
       "    <tr>\n",
       "      <th>936</th>\n",
       "      <td>5709-LVOEQ</td>\n",
       "      <td>2020-02-01</td>\n",
       "      <td>2020-02-01</td>\n",
       "      <td>Two year</td>\n",
       "      <td>No</td>\n",
       "      <td>Mailed check</td>\n",
       "      <td>80.85</td>\n",
       "      <td>NaN</td>\n",
       "      <td>0</td>\n",
       "    </tr>\n",
       "    <tr>\n",
       "      <th>1082</th>\n",
       "      <td>4367-NUYAO</td>\n",
       "      <td>2020-02-01</td>\n",
       "      <td>2020-02-01</td>\n",
       "      <td>Two year</td>\n",
       "      <td>No</td>\n",
       "      <td>Mailed check</td>\n",
       "      <td>25.75</td>\n",
       "      <td>NaN</td>\n",
       "      <td>0</td>\n",
       "    </tr>\n",
       "    <tr>\n",
       "      <th>1340</th>\n",
       "      <td>1371-DWPAZ</td>\n",
       "      <td>2020-02-01</td>\n",
       "      <td>2020-02-01</td>\n",
       "      <td>Two year</td>\n",
       "      <td>No</td>\n",
       "      <td>Credit card (automatic)</td>\n",
       "      <td>56.05</td>\n",
       "      <td>NaN</td>\n",
       "      <td>0</td>\n",
       "    </tr>\n",
       "    <tr>\n",
       "      <th>3331</th>\n",
       "      <td>7644-OMVMY</td>\n",
       "      <td>2020-02-01</td>\n",
       "      <td>2020-02-01</td>\n",
       "      <td>Two year</td>\n",
       "      <td>No</td>\n",
       "      <td>Mailed check</td>\n",
       "      <td>19.85</td>\n",
       "      <td>NaN</td>\n",
       "      <td>0</td>\n",
       "    </tr>\n",
       "    <tr>\n",
       "      <th>3826</th>\n",
       "      <td>3213-VVOLG</td>\n",
       "      <td>2020-02-01</td>\n",
       "      <td>2020-02-01</td>\n",
       "      <td>Two year</td>\n",
       "      <td>No</td>\n",
       "      <td>Mailed check</td>\n",
       "      <td>25.35</td>\n",
       "      <td>NaN</td>\n",
       "      <td>0</td>\n",
       "    </tr>\n",
       "    <tr>\n",
       "      <th>4380</th>\n",
       "      <td>2520-SGTTA</td>\n",
       "      <td>2020-02-01</td>\n",
       "      <td>2020-02-01</td>\n",
       "      <td>Two year</td>\n",
       "      <td>No</td>\n",
       "      <td>Mailed check</td>\n",
       "      <td>20.00</td>\n",
       "      <td>NaN</td>\n",
       "      <td>0</td>\n",
       "    </tr>\n",
       "    <tr>\n",
       "      <th>5218</th>\n",
       "      <td>2923-ARZLG</td>\n",
       "      <td>2020-02-01</td>\n",
       "      <td>2020-02-01</td>\n",
       "      <td>One year</td>\n",
       "      <td>Yes</td>\n",
       "      <td>Mailed check</td>\n",
       "      <td>19.70</td>\n",
       "      <td>NaN</td>\n",
       "      <td>0</td>\n",
       "    </tr>\n",
       "    <tr>\n",
       "      <th>6670</th>\n",
       "      <td>4075-WKNIU</td>\n",
       "      <td>2020-02-01</td>\n",
       "      <td>2020-02-01</td>\n",
       "      <td>Two year</td>\n",
       "      <td>No</td>\n",
       "      <td>Mailed check</td>\n",
       "      <td>73.35</td>\n",
       "      <td>NaN</td>\n",
       "      <td>0</td>\n",
       "    </tr>\n",
       "    <tr>\n",
       "      <th>6754</th>\n",
       "      <td>2775-SEFEE</td>\n",
       "      <td>2020-02-01</td>\n",
       "      <td>2020-02-01</td>\n",
       "      <td>Two year</td>\n",
       "      <td>Yes</td>\n",
       "      <td>Bank transfer (automatic)</td>\n",
       "      <td>61.90</td>\n",
       "      <td>NaN</td>\n",
       "      <td>0</td>\n",
       "    </tr>\n",
       "  </tbody>\n",
       "</table>\n",
       "</div>"
      ],
      "text/plain": [
       "      customerID  BeginDate    EndDate      Type PaperlessBilling  \\\n",
       "488   4472-LVYGI 2020-02-01 2020-02-01  Two year              Yes   \n",
       "753   3115-CZMZD 2020-02-01 2020-02-01  Two year               No   \n",
       "936   5709-LVOEQ 2020-02-01 2020-02-01  Two year               No   \n",
       "1082  4367-NUYAO 2020-02-01 2020-02-01  Two year               No   \n",
       "1340  1371-DWPAZ 2020-02-01 2020-02-01  Two year               No   \n",
       "3331  7644-OMVMY 2020-02-01 2020-02-01  Two year               No   \n",
       "3826  3213-VVOLG 2020-02-01 2020-02-01  Two year               No   \n",
       "4380  2520-SGTTA 2020-02-01 2020-02-01  Two year               No   \n",
       "5218  2923-ARZLG 2020-02-01 2020-02-01  One year              Yes   \n",
       "6670  4075-WKNIU 2020-02-01 2020-02-01  Two year               No   \n",
       "6754  2775-SEFEE 2020-02-01 2020-02-01  Two year              Yes   \n",
       "\n",
       "                  PaymentMethod  MonthlyCharges  TotalCharges  Exited  \n",
       "488   Bank transfer (automatic)           52.55           NaN       0  \n",
       "753                Mailed check           20.25           NaN       0  \n",
       "936                Mailed check           80.85           NaN       0  \n",
       "1082               Mailed check           25.75           NaN       0  \n",
       "1340    Credit card (automatic)           56.05           NaN       0  \n",
       "3331               Mailed check           19.85           NaN       0  \n",
       "3826               Mailed check           25.35           NaN       0  \n",
       "4380               Mailed check           20.00           NaN       0  \n",
       "5218               Mailed check           19.70           NaN       0  \n",
       "6670               Mailed check           73.35           NaN       0  \n",
       "6754  Bank transfer (automatic)           61.90           NaN       0  "
      ]
     },
     "execution_count": 13,
     "metadata": {},
     "output_type": "execute_result"
    }
   ],
   "source": [
    "df_contract[df_contract['TotalCharges'].isnull()]"
   ]
  },
  {
   "cell_type": "markdown",
   "id": "972db78a-e903-452f-bb4d-4697e7d9136e",
   "metadata": {},
   "source": [
    "Эти клиенты были подключены в день выгрузки, поэтому их Общие расхрды равны 0 "
   ]
  },
  {
   "cell_type": "code",
   "execution_count": 14,
   "id": "2c6482ca-d3fa-4c58-a070-fa8b9968787e",
   "metadata": {},
   "outputs": [],
   "source": [
    "df_contract['TotalCharges'] = df_contract['TotalCharges'].fillna(0)"
   ]
  },
  {
   "cell_type": "code",
   "execution_count": 15,
   "id": "b7bfd42d-2c4f-4b31-9e0d-22eaafd938d7",
   "metadata": {},
   "outputs": [
    {
     "data": {
      "text/html": [
       "<div>\n",
       "<style scoped>\n",
       "    .dataframe tbody tr th:only-of-type {\n",
       "        vertical-align: middle;\n",
       "    }\n",
       "\n",
       "    .dataframe tbody tr th {\n",
       "        vertical-align: top;\n",
       "    }\n",
       "\n",
       "    .dataframe thead th {\n",
       "        text-align: right;\n",
       "    }\n",
       "</style>\n",
       "<table border=\"1\" class=\"dataframe\">\n",
       "  <thead>\n",
       "    <tr style=\"text-align: right;\">\n",
       "      <th></th>\n",
       "      <th>MonthlyCharges</th>\n",
       "      <th>TotalCharges</th>\n",
       "      <th>Exited</th>\n",
       "    </tr>\n",
       "  </thead>\n",
       "  <tbody>\n",
       "    <tr>\n",
       "      <th>MonthlyCharges</th>\n",
       "      <td>1.000000</td>\n",
       "      <td>0.630440</td>\n",
       "      <td>0.154286</td>\n",
       "    </tr>\n",
       "    <tr>\n",
       "      <th>TotalCharges</th>\n",
       "      <td>0.630440</td>\n",
       "      <td>1.000000</td>\n",
       "      <td>0.052175</td>\n",
       "    </tr>\n",
       "    <tr>\n",
       "      <th>Exited</th>\n",
       "      <td>0.154286</td>\n",
       "      <td>0.052175</td>\n",
       "      <td>1.000000</td>\n",
       "    </tr>\n",
       "  </tbody>\n",
       "</table>\n",
       "</div>"
      ],
      "text/plain": [
       "                MonthlyCharges  TotalCharges    Exited\n",
       "MonthlyCharges        1.000000      0.630440  0.154286\n",
       "TotalCharges          0.630440      1.000000  0.052175\n",
       "Exited                0.154286      0.052175  1.000000"
      ]
     },
     "execution_count": 15,
     "metadata": {},
     "output_type": "execute_result"
    }
   ],
   "source": [
    "df_contract.corr()"
   ]
  },
  {
   "cell_type": "markdown",
   "id": "e7f14a89-7063-4452-a2f8-cb7ffc0987bc",
   "metadata": {},
   "source": [
    "Создадим новый признак - сколько дней человек является клиентом компании. Тогда признак BeginDate и EndDate можно будет удалить.  \n",
    "Также можно удалить столбец MonthlyCharges, так как зная TotalCharges и Time мы можем восстановаить это значение."
   ]
  },
  {
   "cell_type": "code",
   "execution_count": 16,
   "id": "8219d008-fa12-4607-a03a-0535a4d36300",
   "metadata": {},
   "outputs": [
    {
     "data": {
      "text/html": [
       "<div>\n",
       "<style scoped>\n",
       "    .dataframe tbody tr th:only-of-type {\n",
       "        vertical-align: middle;\n",
       "    }\n",
       "\n",
       "    .dataframe tbody tr th {\n",
       "        vertical-align: top;\n",
       "    }\n",
       "\n",
       "    .dataframe thead th {\n",
       "        text-align: right;\n",
       "    }\n",
       "</style>\n",
       "<table border=\"1\" class=\"dataframe\">\n",
       "  <thead>\n",
       "    <tr style=\"text-align: right;\">\n",
       "      <th></th>\n",
       "      <th>customerID</th>\n",
       "      <th>Type</th>\n",
       "      <th>PaperlessBilling</th>\n",
       "      <th>PaymentMethod</th>\n",
       "      <th>TotalCharges</th>\n",
       "      <th>Exited</th>\n",
       "      <th>Time</th>\n",
       "    </tr>\n",
       "  </thead>\n",
       "  <tbody>\n",
       "    <tr>\n",
       "      <th>0</th>\n",
       "      <td>7590-VHVEG</td>\n",
       "      <td>Month-to-month</td>\n",
       "      <td>Yes</td>\n",
       "      <td>Electronic check</td>\n",
       "      <td>31.04</td>\n",
       "      <td>0</td>\n",
       "      <td>31</td>\n",
       "    </tr>\n",
       "    <tr>\n",
       "      <th>1</th>\n",
       "      <td>5575-GNVDE</td>\n",
       "      <td>One year</td>\n",
       "      <td>No</td>\n",
       "      <td>Mailed check</td>\n",
       "      <td>2071.84</td>\n",
       "      <td>0</td>\n",
       "      <td>1036</td>\n",
       "    </tr>\n",
       "    <tr>\n",
       "      <th>2</th>\n",
       "      <td>3668-QPYBK</td>\n",
       "      <td>Month-to-month</td>\n",
       "      <td>Yes</td>\n",
       "      <td>Mailed check</td>\n",
       "      <td>226.17</td>\n",
       "      <td>0</td>\n",
       "      <td>123</td>\n",
       "    </tr>\n",
       "    <tr>\n",
       "      <th>3</th>\n",
       "      <td>7795-CFOCW</td>\n",
       "      <td>One year</td>\n",
       "      <td>No</td>\n",
       "      <td>Bank transfer (automatic)</td>\n",
       "      <td>1960.60</td>\n",
       "      <td>0</td>\n",
       "      <td>1371</td>\n",
       "    </tr>\n",
       "    <tr>\n",
       "      <th>4</th>\n",
       "      <td>9237-HQITU</td>\n",
       "      <td>Month-to-month</td>\n",
       "      <td>Yes</td>\n",
       "      <td>Electronic check</td>\n",
       "      <td>353.50</td>\n",
       "      <td>0</td>\n",
       "      <td>153</td>\n",
       "    </tr>\n",
       "  </tbody>\n",
       "</table>\n",
       "</div>"
      ],
      "text/plain": [
       "   customerID            Type PaperlessBilling              PaymentMethod  \\\n",
       "0  7590-VHVEG  Month-to-month              Yes           Electronic check   \n",
       "1  5575-GNVDE        One year               No               Mailed check   \n",
       "2  3668-QPYBK  Month-to-month              Yes               Mailed check   \n",
       "3  7795-CFOCW        One year               No  Bank transfer (automatic)   \n",
       "4  9237-HQITU  Month-to-month              Yes           Electronic check   \n",
       "\n",
       "   TotalCharges  Exited  Time  \n",
       "0         31.04       0    31  \n",
       "1       2071.84       0  1036  \n",
       "2        226.17       0   123  \n",
       "3       1960.60       0  1371  \n",
       "4        353.50       0   153  "
      ]
     },
     "execution_count": 16,
     "metadata": {},
     "output_type": "execute_result"
    }
   ],
   "source": [
    "df_contract['Time'] = (df_contract['EndDate'] - df_contract['BeginDate']).dt.days\n",
    "df_contract = df_contract.drop(columns=['BeginDate', 'EndDate', 'MonthlyCharges'])\n",
    "df_contract.head()"
   ]
  },
  {
   "cell_type": "markdown",
   "id": "be162cba-f5e8-477e-a5c5-51768860aca3",
   "metadata": {},
   "source": [
    "Поменяем тип `SeniorCitizen` (категориальный признак) на тип object"
   ]
  },
  {
   "cell_type": "code",
   "execution_count": 17,
   "id": "4cbf400a-107b-4743-a158-f54e956cb0a5",
   "metadata": {},
   "outputs": [],
   "source": [
    "df_personal['SeniorCitizen'] = df_personal['SeniorCitizen'].astype(object)"
   ]
  },
  {
   "cell_type": "markdown",
   "id": "05f29dd3-a314-4cb0-b651-1514cae5bc52",
   "metadata": {},
   "source": [
    "* Объединим таблицы по customerId. Далее этот столбец нам будет ненужен, поэтому удалим его"
   ]
  },
  {
   "cell_type": "code",
   "execution_count": 18,
   "id": "893444e1-900b-4a15-b1ac-6084b6ac70ee",
   "metadata": {},
   "outputs": [],
   "source": [
    "df = df_contract \\\n",
    "    .merge(df_personal, how='left', on='customerID') \\\n",
    "    .merge(df_internet, how='left', on='customerID') \\\n",
    "    .merge(df_phone, how='left', on='customerID') "
   ]
  },
  {
   "cell_type": "code",
   "execution_count": 19,
   "id": "a74e9287-9337-4c36-884f-4b76707bb5a3",
   "metadata": {},
   "outputs": [
    {
     "name": "stdout",
     "output_type": "stream",
     "text": [
      "<class 'pandas.core.frame.DataFrame'>\n",
      "Int64Index: 7043 entries, 0 to 7042\n",
      "Data columns (total 18 columns):\n",
      " #   Column            Non-Null Count  Dtype  \n",
      "---  ------            --------------  -----  \n",
      " 0   Type              7043 non-null   object \n",
      " 1   PaperlessBilling  7043 non-null   object \n",
      " 2   PaymentMethod     7043 non-null   object \n",
      " 3   TotalCharges      7043 non-null   float64\n",
      " 4   Exited            7043 non-null   int32  \n",
      " 5   Time              7043 non-null   int64  \n",
      " 6   gender            7043 non-null   object \n",
      " 7   SeniorCitizen     7043 non-null   object \n",
      " 8   Partner           7043 non-null   object \n",
      " 9   Dependents        7043 non-null   object \n",
      " 10  InternetService   5517 non-null   object \n",
      " 11  OnlineSecurity    5517 non-null   object \n",
      " 12  OnlineBackup      5517 non-null   object \n",
      " 13  DeviceProtection  5517 non-null   object \n",
      " 14  TechSupport       5517 non-null   object \n",
      " 15  StreamingTV       5517 non-null   object \n",
      " 16  StreamingMovies   5517 non-null   object \n",
      " 17  MultipleLines     6361 non-null   object \n",
      "dtypes: float64(1), int32(1), int64(1), object(15)\n",
      "memory usage: 1017.9+ KB\n"
     ]
    },
    {
     "data": {
      "text/plain": [
       "None"
      ]
     },
     "metadata": {},
     "output_type": "display_data"
    },
    {
     "data": {
      "text/html": [
       "<div>\n",
       "<style scoped>\n",
       "    .dataframe tbody tr th:only-of-type {\n",
       "        vertical-align: middle;\n",
       "    }\n",
       "\n",
       "    .dataframe tbody tr th {\n",
       "        vertical-align: top;\n",
       "    }\n",
       "\n",
       "    .dataframe thead th {\n",
       "        text-align: right;\n",
       "    }\n",
       "</style>\n",
       "<table border=\"1\" class=\"dataframe\">\n",
       "  <thead>\n",
       "    <tr style=\"text-align: right;\">\n",
       "      <th></th>\n",
       "      <th>Type</th>\n",
       "      <th>PaperlessBilling</th>\n",
       "      <th>PaymentMethod</th>\n",
       "      <th>TotalCharges</th>\n",
       "      <th>Exited</th>\n",
       "      <th>Time</th>\n",
       "      <th>gender</th>\n",
       "      <th>SeniorCitizen</th>\n",
       "      <th>Partner</th>\n",
       "      <th>Dependents</th>\n",
       "      <th>InternetService</th>\n",
       "      <th>OnlineSecurity</th>\n",
       "      <th>OnlineBackup</th>\n",
       "      <th>DeviceProtection</th>\n",
       "      <th>TechSupport</th>\n",
       "      <th>StreamingTV</th>\n",
       "      <th>StreamingMovies</th>\n",
       "      <th>MultipleLines</th>\n",
       "    </tr>\n",
       "  </thead>\n",
       "  <tbody>\n",
       "    <tr>\n",
       "      <th>0</th>\n",
       "      <td>Month-to-month</td>\n",
       "      <td>Yes</td>\n",
       "      <td>Electronic check</td>\n",
       "      <td>31.04</td>\n",
       "      <td>0</td>\n",
       "      <td>31</td>\n",
       "      <td>Female</td>\n",
       "      <td>0</td>\n",
       "      <td>Yes</td>\n",
       "      <td>No</td>\n",
       "      <td>DSL</td>\n",
       "      <td>No</td>\n",
       "      <td>Yes</td>\n",
       "      <td>No</td>\n",
       "      <td>No</td>\n",
       "      <td>No</td>\n",
       "      <td>No</td>\n",
       "      <td>NaN</td>\n",
       "    </tr>\n",
       "    <tr>\n",
       "      <th>1</th>\n",
       "      <td>One year</td>\n",
       "      <td>No</td>\n",
       "      <td>Mailed check</td>\n",
       "      <td>2071.84</td>\n",
       "      <td>0</td>\n",
       "      <td>1036</td>\n",
       "      <td>Male</td>\n",
       "      <td>0</td>\n",
       "      <td>No</td>\n",
       "      <td>No</td>\n",
       "      <td>DSL</td>\n",
       "      <td>Yes</td>\n",
       "      <td>No</td>\n",
       "      <td>Yes</td>\n",
       "      <td>No</td>\n",
       "      <td>No</td>\n",
       "      <td>No</td>\n",
       "      <td>No</td>\n",
       "    </tr>\n",
       "    <tr>\n",
       "      <th>2</th>\n",
       "      <td>Month-to-month</td>\n",
       "      <td>Yes</td>\n",
       "      <td>Mailed check</td>\n",
       "      <td>226.17</td>\n",
       "      <td>0</td>\n",
       "      <td>123</td>\n",
       "      <td>Male</td>\n",
       "      <td>0</td>\n",
       "      <td>No</td>\n",
       "      <td>No</td>\n",
       "      <td>DSL</td>\n",
       "      <td>Yes</td>\n",
       "      <td>Yes</td>\n",
       "      <td>No</td>\n",
       "      <td>No</td>\n",
       "      <td>No</td>\n",
       "      <td>No</td>\n",
       "      <td>No</td>\n",
       "    </tr>\n",
       "    <tr>\n",
       "      <th>3</th>\n",
       "      <td>One year</td>\n",
       "      <td>No</td>\n",
       "      <td>Bank transfer (automatic)</td>\n",
       "      <td>1960.60</td>\n",
       "      <td>0</td>\n",
       "      <td>1371</td>\n",
       "      <td>Male</td>\n",
       "      <td>0</td>\n",
       "      <td>No</td>\n",
       "      <td>No</td>\n",
       "      <td>DSL</td>\n",
       "      <td>Yes</td>\n",
       "      <td>No</td>\n",
       "      <td>Yes</td>\n",
       "      <td>Yes</td>\n",
       "      <td>No</td>\n",
       "      <td>No</td>\n",
       "      <td>NaN</td>\n",
       "    </tr>\n",
       "    <tr>\n",
       "      <th>4</th>\n",
       "      <td>Month-to-month</td>\n",
       "      <td>Yes</td>\n",
       "      <td>Electronic check</td>\n",
       "      <td>353.50</td>\n",
       "      <td>0</td>\n",
       "      <td>153</td>\n",
       "      <td>Female</td>\n",
       "      <td>0</td>\n",
       "      <td>No</td>\n",
       "      <td>No</td>\n",
       "      <td>Fiber optic</td>\n",
       "      <td>No</td>\n",
       "      <td>No</td>\n",
       "      <td>No</td>\n",
       "      <td>No</td>\n",
       "      <td>No</td>\n",
       "      <td>No</td>\n",
       "      <td>No</td>\n",
       "    </tr>\n",
       "  </tbody>\n",
       "</table>\n",
       "</div>"
      ],
      "text/plain": [
       "             Type PaperlessBilling              PaymentMethod  TotalCharges  \\\n",
       "0  Month-to-month              Yes           Electronic check         31.04   \n",
       "1        One year               No               Mailed check       2071.84   \n",
       "2  Month-to-month              Yes               Mailed check        226.17   \n",
       "3        One year               No  Bank transfer (automatic)       1960.60   \n",
       "4  Month-to-month              Yes           Electronic check        353.50   \n",
       "\n",
       "   Exited  Time  gender SeniorCitizen Partner Dependents InternetService  \\\n",
       "0       0    31  Female             0     Yes         No             DSL   \n",
       "1       0  1036    Male             0      No         No             DSL   \n",
       "2       0   123    Male             0      No         No             DSL   \n",
       "3       0  1371    Male             0      No         No             DSL   \n",
       "4       0   153  Female             0      No         No     Fiber optic   \n",
       "\n",
       "  OnlineSecurity OnlineBackup DeviceProtection TechSupport StreamingTV  \\\n",
       "0             No          Yes               No          No          No   \n",
       "1            Yes           No              Yes          No          No   \n",
       "2            Yes          Yes               No          No          No   \n",
       "3            Yes           No              Yes         Yes          No   \n",
       "4             No           No               No          No          No   \n",
       "\n",
       "  StreamingMovies MultipleLines  \n",
       "0              No           NaN  \n",
       "1              No            No  \n",
       "2              No            No  \n",
       "3              No           NaN  \n",
       "4              No            No  "
      ]
     },
     "metadata": {},
     "output_type": "display_data"
    },
    {
     "data": {
      "text/html": [
       "<div>\n",
       "<style scoped>\n",
       "    .dataframe tbody tr th:only-of-type {\n",
       "        vertical-align: middle;\n",
       "    }\n",
       "\n",
       "    .dataframe tbody tr th {\n",
       "        vertical-align: top;\n",
       "    }\n",
       "\n",
       "    .dataframe thead th {\n",
       "        text-align: right;\n",
       "    }\n",
       "</style>\n",
       "<table border=\"1\" class=\"dataframe\">\n",
       "  <thead>\n",
       "    <tr style=\"text-align: right;\">\n",
       "      <th></th>\n",
       "      <th>TotalCharges</th>\n",
       "      <th>Exited</th>\n",
       "      <th>Time</th>\n",
       "    </tr>\n",
       "  </thead>\n",
       "  <tbody>\n",
       "    <tr>\n",
       "      <th>count</th>\n",
       "      <td>7043.000000</td>\n",
       "      <td>7043.000000</td>\n",
       "      <td>7043.000000</td>\n",
       "    </tr>\n",
       "    <tr>\n",
       "      <th>mean</th>\n",
       "      <td>2115.312885</td>\n",
       "      <td>0.156325</td>\n",
       "      <td>898.555729</td>\n",
       "    </tr>\n",
       "    <tr>\n",
       "      <th>std</th>\n",
       "      <td>2112.742814</td>\n",
       "      <td>0.363189</td>\n",
       "      <td>683.130510</td>\n",
       "    </tr>\n",
       "    <tr>\n",
       "      <th>min</th>\n",
       "      <td>0.000000</td>\n",
       "      <td>0.000000</td>\n",
       "      <td>0.000000</td>\n",
       "    </tr>\n",
       "    <tr>\n",
       "      <th>25%</th>\n",
       "      <td>436.750000</td>\n",
       "      <td>0.000000</td>\n",
       "      <td>276.000000</td>\n",
       "    </tr>\n",
       "    <tr>\n",
       "      <th>50%</th>\n",
       "      <td>1343.350000</td>\n",
       "      <td>0.000000</td>\n",
       "      <td>761.000000</td>\n",
       "    </tr>\n",
       "    <tr>\n",
       "      <th>75%</th>\n",
       "      <td>3236.690000</td>\n",
       "      <td>0.000000</td>\n",
       "      <td>1461.000000</td>\n",
       "    </tr>\n",
       "    <tr>\n",
       "      <th>max</th>\n",
       "      <td>9221.380000</td>\n",
       "      <td>1.000000</td>\n",
       "      <td>2314.000000</td>\n",
       "    </tr>\n",
       "  </tbody>\n",
       "</table>\n",
       "</div>"
      ],
      "text/plain": [
       "       TotalCharges       Exited         Time\n",
       "count   7043.000000  7043.000000  7043.000000\n",
       "mean    2115.312885     0.156325   898.555729\n",
       "std     2112.742814     0.363189   683.130510\n",
       "min        0.000000     0.000000     0.000000\n",
       "25%      436.750000     0.000000   276.000000\n",
       "50%     1343.350000     0.000000   761.000000\n",
       "75%     3236.690000     0.000000  1461.000000\n",
       "max     9221.380000     1.000000  2314.000000"
      ]
     },
     "metadata": {},
     "output_type": "display_data"
    },
    {
     "name": "stdout",
     "output_type": "stream",
     "text": [
      "Количество дубликатов  5\n",
      "Количество пропусков  Type                   0\n",
      "PaperlessBilling       0\n",
      "PaymentMethod          0\n",
      "TotalCharges           0\n",
      "Exited                 0\n",
      "Time                   0\n",
      "gender                 0\n",
      "SeniorCitizen          0\n",
      "Partner                0\n",
      "Dependents             0\n",
      "InternetService     1526\n",
      "OnlineSecurity      1526\n",
      "OnlineBackup        1526\n",
      "DeviceProtection    1526\n",
      "TechSupport         1526\n",
      "StreamingTV         1526\n",
      "StreamingMovies     1526\n",
      "MultipleLines        682\n",
      "dtype: int64\n"
     ]
    }
   ],
   "source": [
    "df = df.drop('customerID', axis=1)\n",
    "check(df)"
   ]
  },
  {
   "cell_type": "markdown",
   "id": "9e37a043-c829-4521-a0be-a5d6141dfc0f",
   "metadata": {},
   "source": [
    "* Обработка пропусков"
   ]
  },
  {
   "cell_type": "markdown",
   "id": "d5044b0c-58ef-4861-863d-a1a243536a86",
   "metadata": {},
   "source": [
    "Скорее всего ропуски в колонках `InternetService`, `OnlineSecurity`, `OnlineBackup`, `DeviceProtection`, `TechSupport`, `StreamingTV`, `StreamingMovies`, `MultipleLines` означают что эти услуги не подключены -> заменим на No"
   ]
  },
  {
   "cell_type": "code",
   "execution_count": 20,
   "id": "d0240d04-28d7-43d1-8657-1e95b04d7a06",
   "metadata": {},
   "outputs": [],
   "source": [
    "for column in ('InternetService', 'OnlineSecurity', 'OnlineBackup', 'DeviceProtection', 'TechSupport', 'StreamingTV', 'StreamingMovies', 'MultipleLines'):\n",
    "    df[column] = df[column].fillna('No')"
   ]
  },
  {
   "cell_type": "code",
   "execution_count": 21,
   "id": "0e0ba069-9627-4e38-9ac5-36cb9525ceba",
   "metadata": {},
   "outputs": [
    {
     "name": "stdout",
     "output_type": "stream",
     "text": [
      "<class 'pandas.core.frame.DataFrame'>\n",
      "Int64Index: 7043 entries, 0 to 7042\n",
      "Data columns (total 18 columns):\n",
      " #   Column            Non-Null Count  Dtype  \n",
      "---  ------            --------------  -----  \n",
      " 0   Type              7043 non-null   object \n",
      " 1   PaperlessBilling  7043 non-null   object \n",
      " 2   PaymentMethod     7043 non-null   object \n",
      " 3   TotalCharges      7043 non-null   float64\n",
      " 4   Exited            7043 non-null   int32  \n",
      " 5   Time              7043 non-null   int64  \n",
      " 6   gender            7043 non-null   object \n",
      " 7   SeniorCitizen     7043 non-null   object \n",
      " 8   Partner           7043 non-null   object \n",
      " 9   Dependents        7043 non-null   object \n",
      " 10  InternetService   7043 non-null   object \n",
      " 11  OnlineSecurity    7043 non-null   object \n",
      " 12  OnlineBackup      7043 non-null   object \n",
      " 13  DeviceProtection  7043 non-null   object \n",
      " 14  TechSupport       7043 non-null   object \n",
      " 15  StreamingTV       7043 non-null   object \n",
      " 16  StreamingMovies   7043 non-null   object \n",
      " 17  MultipleLines     7043 non-null   object \n",
      "dtypes: float64(1), int32(1), int64(1), object(15)\n",
      "memory usage: 1017.9+ KB\n"
     ]
    }
   ],
   "source": [
    "df.info()"
   ]
  },
  {
   "cell_type": "markdown",
   "id": "f2e545df-7df1-4c93-bef3-398177860e00",
   "metadata": {},
   "source": [
    "Все пропуски успешно обработаны"
   ]
  },
  {
   "cell_type": "markdown",
   "id": "c8d18f1f-91e4-45de-9e49-c3f3eab1ca65",
   "metadata": {},
   "source": [
    "## Анализ данных"
   ]
  },
  {
   "cell_type": "code",
   "execution_count": 22,
   "id": "934a5bc9-b94d-49af-94eb-eab9f863f850",
   "metadata": {},
   "outputs": [
    {
     "name": "stdout",
     "output_type": "stream",
     "text": [
      "['Type', 'PaperlessBilling', 'PaymentMethod', 'gender', 'SeniorCitizen', 'Partner', 'Dependents', 'InternetService', 'OnlineSecurity', 'OnlineBackup', 'DeviceProtection', 'TechSupport', 'StreamingTV', 'StreamingMovies', 'MultipleLines']\n"
     ]
    }
   ],
   "source": [
    "categorial_columns = df.select_dtypes(include='object').columns.to_list()\n",
    "print(categorial_columns)\n",
    "numeric_columns = ['TotalCharges','Time']"
   ]
  },
  {
   "cell_type": "markdown",
   "id": "30f0acab-db71-4c85-a062-81b2cc3a358a",
   "metadata": {},
   "source": [
    "* Посмотрим распределение значений и диаграммы размаха для количественных данных относительно целевого признака Exited"
   ]
  },
  {
   "cell_type": "code",
   "execution_count": 23,
   "id": "e03601b2-e96b-40af-952b-04b95646794a",
   "metadata": {},
   "outputs": [
    {
     "data": {
      "image/png": "[encoded data removed]",
      "text/plain": [
       "<Figure size 1000x600 with 4 Axes>"
      ]
     },
     "metadata": {},
     "output_type": "display_data"
    }
   ],
   "source": [
    "#построим гистограмму для каждого столбца\n",
    "df.hist(figsize=(10, 6))\n",
    "plt.show()"
   ]
  },
  {
   "cell_type": "code",
   "execution_count": 24,
   "id": "2351bb98-cb91-4546-8eb0-99896fd4a65e",
   "metadata": {},
   "outputs": [
    {
     "data": {
      "image/png": "[encoded data removed]",
      "text/plain": [
       "<Figure size 1200x600 with 1 Axes>"
      ]
     },
     "metadata": {},
     "output_type": "display_data"
    }
   ],
   "source": [
    "plt.figure(figsize=(12,6))\n",
    "sns.boxplot(data=df, x = 'Exited', y = 'TotalCharges')\n",
    "plt.title('Ящик с усами', fontsize=15)\n",
    "plt.xlabel('Exited', fontsize=12)\n",
    "plt.ylabel('TotalCharges',fontsize=12)\n",
    "plt.show()"
   ]
  },
  {
   "cell_type": "code",
   "execution_count": 25,
   "id": "6e83e9db-176f-49f7-b30a-374faed435dc",
   "metadata": {},
   "outputs": [
    {
     "data": {
      "image/png": "[encoded data removed]",
      "text/plain": [
       "<Figure size 640x480 with 1 Axes>"
      ]
     },
     "metadata": {},
     "output_type": "display_data"
    }
   ],
   "source": [
    "plt.hist(x = df[df['Exited'] == 0]['TotalCharges'])\n",
    "plt.hist(x = df[df['Exited'] == 1]['TotalCharges'])\n",
    "plt.legend(['Exited = 0','Exited = 1'])\n",
    "plt.ylabel('Количество клиентов')\n",
    "plt.xlabel('Суммарные траты')\n",
    "plt.title('TotalCharges')\n",
    "plt.show()"
   ]
  },
  {
   "cell_type": "code",
   "execution_count": 26,
   "id": "d1a7f843-5d66-4157-aaad-429f18d1398d",
   "metadata": {},
   "outputs": [
    {
     "data": {
      "text/plain": [
       "count    5942.000000\n",
       "mean     2067.866420\n",
       "std      2193.898483\n",
       "min         0.000000\n",
       "25%       374.352500\n",
       "50%      1192.800000\n",
       "75%      3173.837500\n",
       "max      9221.380000\n",
       "Name: TotalCharges, dtype: float64"
      ]
     },
     "execution_count": 26,
     "metadata": {},
     "output_type": "execute_result"
    }
   ],
   "source": [
    "df[df['Exited'] == 0]['TotalCharges'].describe()"
   ]
  },
  {
   "cell_type": "code",
   "execution_count": 27,
   "id": "2c06963e-c1b7-45bb-bcc3-ba17913b1470",
   "metadata": {},
   "outputs": [
    {
     "data": {
      "text/plain": [
       "count    1101.000000\n",
       "mean     2371.377275\n",
       "std      1581.862275\n",
       "min        77.840000\n",
       "25%      1048.050000\n",
       "50%      2139.030000\n",
       "75%      3404.910000\n",
       "max      7649.760000\n",
       "Name: TotalCharges, dtype: float64"
      ]
     },
     "execution_count": 27,
     "metadata": {},
     "output_type": "execute_result"
    }
   ],
   "source": [
    "df[df['Exited'] == 1]['TotalCharges'].describe()"
   ]
  },
  {
   "cell_type": "code",
   "execution_count": 28,
   "id": "d242fa1b-1f4e-453a-8632-94aa80ea93b9",
   "metadata": {},
   "outputs": [
    {
     "data": {
      "image/png": "[encoded data removed]",
      "text/plain": [
       "<Figure size 640x480 with 1 Axes>"
      ]
     },
     "metadata": {},
     "output_type": "display_data"
    }
   ],
   "source": [
    "plt.hist(x = df[df['Exited'] == 0]['Time'])\n",
    "plt.hist(x = df[df['Exited'] == 1]['Time'])\n",
    "plt.legend(['Exited = 0','Exited = 1'])\n",
    "plt.ylabel('Количество клиентов')\n",
    "plt.xlabel('Количество дней в качестве клиента')\n",
    "plt.title('Time')\n",
    "plt.show()"
   ]
  },
  {
   "cell_type": "code",
   "execution_count": 30,
   "id": "5047bc61-3d6f-4814-b815-45942c45aab1",
   "metadata": {},
   "outputs": [
    {
     "data": {
      "text/plain": [
       "count    5942.000000\n",
       "mean      893.681084\n",
       "std       716.958551\n",
       "min         0.000000\n",
       "25%       245.000000\n",
       "50%       702.000000\n",
       "75%      1523.000000\n",
       "max      2314.000000\n",
       "Name: Time, dtype: float64"
      ]
     },
     "execution_count": 30,
     "metadata": {},
     "output_type": "execute_result"
    }
   ],
   "source": [
    "df[df['Exited'] == 0]['Time'].describe()"
   ]
  },
  {
   "cell_type": "code",
   "execution_count": 31,
   "id": "2e37570e-4cc1-4462-99c0-c2ded1d617b6",
   "metadata": {},
   "outputs": [
    {
     "data": {
      "text/plain": [
       "count    1101.000000\n",
       "mean      924.863760\n",
       "std       458.771309\n",
       "min        28.000000\n",
       "25%       577.000000\n",
       "50%       915.000000\n",
       "75%      1249.000000\n",
       "max      2129.000000\n",
       "Name: Time, dtype: float64"
      ]
     },
     "execution_count": 31,
     "metadata": {},
     "output_type": "execute_result"
    }
   ],
   "source": [
    "df[df['Exited'] == 1]['Time'].describe()"
   ]
  },
  {
   "cell_type": "markdown",
   "id": "8fc1acce-ef26-4af8-ab0f-ff7e25506510",
   "metadata": {},
   "source": [
    "Получили, что :\n",
    "- Обычно отказывались от услуг те, кто платил больше\n",
    "- Со временем вероятность отказа от услуг уменьшается"
   ]
  },
  {
   "cell_type": "markdown",
   "id": "13a629bc-dda4-4c16-b1b2-97084d3ba473",
   "metadata": {},
   "source": [
    "* Посмотрим на категориальные переменные"
   ]
  },
  {
   "cell_type": "code",
   "execution_count": 32,
   "id": "9fdfbb22-8ffd-4d82-8c82-4d476a54d419",
   "metadata": {},
   "outputs": [
    {
     "data": {
      "image/png": "[encoded data removed]",
      "text/plain": [
       "<Figure size 2000x3500 with 14 Axes>"
      ]
     },
     "metadata": {},
     "output_type": "display_data"
    }
   ],
   "source": [
    "cols = 2\n",
    "rows = int(np.ceil(len(categorial_columns) / cols))\n",
    "plt.figure(figsize=(20, 35))\n",
    "for idx, column in enumerate(categorial_columns):\n",
    "    ax = plt.subplot(rows, cols, idx + 1)  \n",
    "    df[column].value_counts().plot(kind='bar', title=column, ax=ax,rot=0)      \n",
    "plt.show()\n"
   ]
  },
  {
   "cell_type": "markdown",
   "id": "6068df61-a704-4ded-befe-413ecd8ab3f7",
   "metadata": {},
   "source": [
    "Выводы:\n",
    "\n",
    "- Самый популярный способ оплаты - помесячный\n",
    "- Люди чаще предпочитают получать счета в электронном виде и оплачивать их при помощи электронного чека\n",
    "- Соотношение мужщин и женщин одинаково\n",
    "- Самый частый способ подключения - оптоволокно\n",
    "- Дополнительные услуги OnlineSecurity, OnlineBackup, DeviceProtection, TechSupport, StreamingTV, StreamingMovies, MultipleLines подключают себе примерно 1/3 клиентов"
   ]
  },
  {
   "cell_type": "markdown",
   "id": "7aa777fe-f77e-4cd9-9d4d-88d26993b6f4",
   "metadata": {},
   "source": [
    "Теперь посомтрим относительно целевог признака Exited"
   ]
  },
  {
   "cell_type": "code",
   "execution_count": 33,
   "id": "fa641e7f-18ed-4c22-a288-f5c22336df06",
   "metadata": {},
   "outputs": [
    {
     "data": {
      "image/png": "[encoded data removed]",
      "text/plain": [
       "<Figure size 2000x3500 with 14 Axes>"
      ]
     },
     "metadata": {},
     "output_type": "display_data"
    }
   ],
   "source": [
    "cols = 2\n",
    "rows = int(np.ceil(len(categorial_columns) / cols))\n",
    "plt.figure(figsize=(20, 35))\n",
    "\n",
    "for idx, column in enumerate(categorial_columns):\n",
    "    df_group = df.groupby([column, 'Exited'])['Exited'].count()\n",
    "    df_group = df_group.unstack()\n",
    "    ax = plt.subplot(rows, cols, idx + 1)\n",
    "    ax.bar(df_group.T.index, df_group.T[df_group.T.columns[0]], label=df_group.T.columns[0])\n",
    "    bottom = np.array(df_group.T[df_group.T.columns[0]])\n",
    "    for color_idx, value in enumerate(df_group.T.columns[1:]): \n",
    "        ax.bar(df_group.T.index, df_group.T[value], bottom=bottom, label=value)\n",
    "        bottom += np.array(df_group.T[value])\n",
    "    plt.title(column)\n",
    "    plt.legend()    \n",
    "plt.show()"
   ]
  },
  {
   "cell_type": "markdown",
   "id": "78af79be-72a8-4971-906a-c1bfa220e25f",
   "metadata": {},
   "source": [
    "Выводы:\n",
    "\n",
    "- Доля людей, которые остаются клиентами чаще платят помесячно\n",
    "- Клиенты, использующие \"Mail check\" для оплаты реже всего отказываются от услуг оператора\n",
    "- Если пользователь не пользуется интернетом, то вероятность отказа ниже\n",
    "- Дополнительные услуги слабо влияют на отказы"
   ]
  },
  {
   "cell_type": "markdown",
   "id": "bc328101-7a08-4b10-a23b-6ec9f4e855a6",
   "metadata": {},
   "source": [
    "## Разделение и кодирование выборки"
   ]
  },
  {
   "cell_type": "code",
   "execution_count": 34,
   "id": "6dfda2c4-4864-4b86-b6d2-f26319804c9d",
   "metadata": {},
   "outputs": [],
   "source": [
    "features = df.drop(['Exited'],axis=1)\n",
    "target = df['Exited']"
   ]
  },
  {
   "cell_type": "markdown",
   "id": "a127b455-1a7b-4d9c-933f-bfc0e88d1d48",
   "metadata": {},
   "source": [
    "Разобьем на тестовую и тренировочную выборки"
   ]
  },
  {
   "cell_type": "code",
   "execution_count": 47,
   "id": "0e08eb84-8e3d-4837-a6e5-ef4a63b73bd7",
   "metadata": {},
   "outputs": [],
   "source": [
    "X_train, X_test, y_train, y_test = train_test_split(features,target, test_size=0.25, random_state=RANDOM_SEED)"
   ]
  },
  {
   "cell_type": "code",
   "execution_count": 48,
   "id": "c44c7298-21b3-4537-9694-bbab0922dd29",
   "metadata": {},
   "outputs": [
    {
     "name": "stdout",
     "output_type": "stream",
     "text": [
      "['Type', 'PaperlessBilling', 'PaymentMethod', 'gender', 'SeniorCitizen', 'Partner', 'Dependents', 'InternetService', 'OnlineSecurity', 'OnlineBackup', 'DeviceProtection', 'TechSupport', 'StreamingTV', 'StreamingMovies', 'MultipleLines']\n",
      "['TotalCharges', 'Time']\n"
     ]
    }
   ],
   "source": [
    "ohe_features = features.select_dtypes(include='object').columns.to_list()\n",
    "print(ohe_features)\n",
    "num_features = features.select_dtypes(exclude='object').columns.to_list()\n",
    "print(num_features)"
   ]
  },
  {
   "cell_type": "markdown",
   "id": "c96fbf24-8ce3-4062-9a8f-b8509b682cda",
   "metadata": {},
   "source": [
    "Кодируем и масштабируем признаки"
   ]
  },
  {
   "cell_type": "code",
   "execution_count": 52,
   "id": "4871c73c-81ed-467a-8073-9e919994e76d",
   "metadata": {},
   "outputs": [],
   "source": [
    "X_train_ohe = X_train.copy()\n",
    "X_test_ohe = X_test.copy()"
   ]
  },
  {
   "cell_type": "code",
   "execution_count": 53,
   "id": "c8d1eb2a-eb58-4bf4-9a3b-2d12e81f9cf1",
   "metadata": {},
   "outputs": [
    {
     "data": {
      "text/html": [
       "<div>\n",
       "<style scoped>\n",
       "    .dataframe tbody tr th:only-of-type {\n",
       "        vertical-align: middle;\n",
       "    }\n",
       "\n",
       "    .dataframe tbody tr th {\n",
       "        vertical-align: top;\n",
       "    }\n",
       "\n",
       "    .dataframe thead th {\n",
       "        text-align: right;\n",
       "    }\n",
       "</style>\n",
       "<table border=\"1\" class=\"dataframe\">\n",
       "  <thead>\n",
       "    <tr style=\"text-align: right;\">\n",
       "      <th></th>\n",
       "      <th>TotalCharges</th>\n",
       "      <th>Time</th>\n",
       "      <th>Type_One year</th>\n",
       "      <th>Type_Two year</th>\n",
       "      <th>PaperlessBilling_Yes</th>\n",
       "      <th>PaymentMethod_Credit card (automatic)</th>\n",
       "      <th>PaymentMethod_Electronic check</th>\n",
       "      <th>PaymentMethod_Mailed check</th>\n",
       "      <th>gender_Male</th>\n",
       "      <th>SeniorCitizen_1</th>\n",
       "      <th>...</th>\n",
       "      <th>Dependents_Yes</th>\n",
       "      <th>InternetService_Fiber optic</th>\n",
       "      <th>InternetService_No</th>\n",
       "      <th>OnlineSecurity_Yes</th>\n",
       "      <th>OnlineBackup_Yes</th>\n",
       "      <th>DeviceProtection_Yes</th>\n",
       "      <th>TechSupport_Yes</th>\n",
       "      <th>StreamingTV_Yes</th>\n",
       "      <th>StreamingMovies_Yes</th>\n",
       "      <th>MultipleLines_Yes</th>\n",
       "    </tr>\n",
       "  </thead>\n",
       "  <tbody>\n",
       "    <tr>\n",
       "      <th>1214</th>\n",
       "      <td>-0.023713</td>\n",
       "      <td>-0.323653</td>\n",
       "      <td>0.0</td>\n",
       "      <td>0.0</td>\n",
       "      <td>1.0</td>\n",
       "      <td>0.0</td>\n",
       "      <td>0.0</td>\n",
       "      <td>0.0</td>\n",
       "      <td>1.0</td>\n",
       "      <td>0.0</td>\n",
       "      <td>...</td>\n",
       "      <td>0.0</td>\n",
       "      <td>1.0</td>\n",
       "      <td>0.0</td>\n",
       "      <td>0.0</td>\n",
       "      <td>0.0</td>\n",
       "      <td>0.0</td>\n",
       "      <td>0.0</td>\n",
       "      <td>0.0</td>\n",
       "      <td>1.0</td>\n",
       "      <td>1.0</td>\n",
       "    </tr>\n",
       "    <tr>\n",
       "      <th>827</th>\n",
       "      <td>-0.824187</td>\n",
       "      <td>-0.680887</td>\n",
       "      <td>0.0</td>\n",
       "      <td>0.0</td>\n",
       "      <td>0.0</td>\n",
       "      <td>0.0</td>\n",
       "      <td>0.0</td>\n",
       "      <td>1.0</td>\n",
       "      <td>0.0</td>\n",
       "      <td>0.0</td>\n",
       "      <td>...</td>\n",
       "      <td>1.0</td>\n",
       "      <td>0.0</td>\n",
       "      <td>1.0</td>\n",
       "      <td>0.0</td>\n",
       "      <td>0.0</td>\n",
       "      <td>0.0</td>\n",
       "      <td>0.0</td>\n",
       "      <td>0.0</td>\n",
       "      <td>0.0</td>\n",
       "      <td>1.0</td>\n",
       "    </tr>\n",
       "    <tr>\n",
       "      <th>6266</th>\n",
       "      <td>0.346625</td>\n",
       "      <td>0.210734</td>\n",
       "      <td>0.0</td>\n",
       "      <td>0.0</td>\n",
       "      <td>1.0</td>\n",
       "      <td>1.0</td>\n",
       "      <td>0.0</td>\n",
       "      <td>0.0</td>\n",
       "      <td>1.0</td>\n",
       "      <td>1.0</td>\n",
       "      <td>...</td>\n",
       "      <td>0.0</td>\n",
       "      <td>1.0</td>\n",
       "      <td>0.0</td>\n",
       "      <td>0.0</td>\n",
       "      <td>1.0</td>\n",
       "      <td>1.0</td>\n",
       "      <td>0.0</td>\n",
       "      <td>0.0</td>\n",
       "      <td>0.0</td>\n",
       "      <td>1.0</td>\n",
       "    </tr>\n",
       "    <tr>\n",
       "      <th>1010</th>\n",
       "      <td>-0.921512</td>\n",
       "      <td>-1.171352</td>\n",
       "      <td>0.0</td>\n",
       "      <td>0.0</td>\n",
       "      <td>1.0</td>\n",
       "      <td>0.0</td>\n",
       "      <td>0.0</td>\n",
       "      <td>1.0</td>\n",
       "      <td>1.0</td>\n",
       "      <td>0.0</td>\n",
       "      <td>...</td>\n",
       "      <td>0.0</td>\n",
       "      <td>0.0</td>\n",
       "      <td>0.0</td>\n",
       "      <td>1.0</td>\n",
       "      <td>0.0</td>\n",
       "      <td>0.0</td>\n",
       "      <td>0.0</td>\n",
       "      <td>0.0</td>\n",
       "      <td>0.0</td>\n",
       "      <td>0.0</td>\n",
       "    </tr>\n",
       "    <tr>\n",
       "      <th>4397</th>\n",
       "      <td>2.592822</td>\n",
       "      <td>1.901740</td>\n",
       "      <td>0.0</td>\n",
       "      <td>1.0</td>\n",
       "      <td>1.0</td>\n",
       "      <td>0.0</td>\n",
       "      <td>0.0</td>\n",
       "      <td>0.0</td>\n",
       "      <td>0.0</td>\n",
       "      <td>0.0</td>\n",
       "      <td>...</td>\n",
       "      <td>0.0</td>\n",
       "      <td>1.0</td>\n",
       "      <td>0.0</td>\n",
       "      <td>1.0</td>\n",
       "      <td>1.0</td>\n",
       "      <td>1.0</td>\n",
       "      <td>1.0</td>\n",
       "      <td>1.0</td>\n",
       "      <td>0.0</td>\n",
       "      <td>1.0</td>\n",
       "    </tr>\n",
       "  </tbody>\n",
       "</table>\n",
       "<p>5 rows × 21 columns</p>\n",
       "</div>"
      ],
      "text/plain": [
       "      TotalCharges      Time  Type_One year  Type_Two year  \\\n",
       "1214     -0.023713 -0.323653            0.0            0.0   \n",
       "827      -0.824187 -0.680887            0.0            0.0   \n",
       "6266      0.346625  0.210734            0.0            0.0   \n",
       "1010     -0.921512 -1.171352            0.0            0.0   \n",
       "4397      2.592822  1.901740            0.0            1.0   \n",
       "\n",
       "      PaperlessBilling_Yes  PaymentMethod_Credit card (automatic)  \\\n",
       "1214                   1.0                                    0.0   \n",
       "827                    0.0                                    0.0   \n",
       "6266                   1.0                                    1.0   \n",
       "1010                   1.0                                    0.0   \n",
       "4397                   1.0                                    0.0   \n",
       "\n",
       "      PaymentMethod_Electronic check  PaymentMethod_Mailed check  gender_Male  \\\n",
       "1214                             0.0                         0.0          1.0   \n",
       "827                              0.0                         1.0          0.0   \n",
       "6266                             0.0                         0.0          1.0   \n",
       "1010                             0.0                         1.0          1.0   \n",
       "4397                             0.0                         0.0          0.0   \n",
       "\n",
       "      SeniorCitizen_1  ...  Dependents_Yes  InternetService_Fiber optic  \\\n",
       "1214              0.0  ...             0.0                          1.0   \n",
       "827               0.0  ...             1.0                          0.0   \n",
       "6266              1.0  ...             0.0                          1.0   \n",
       "1010              0.0  ...             0.0                          0.0   \n",
       "4397              0.0  ...             0.0                          1.0   \n",
       "\n",
       "      InternetService_No  OnlineSecurity_Yes  OnlineBackup_Yes  \\\n",
       "1214                 0.0                 0.0               0.0   \n",
       "827                  1.0                 0.0               0.0   \n",
       "6266                 0.0                 0.0               1.0   \n",
       "1010                 0.0                 1.0               0.0   \n",
       "4397                 0.0                 1.0               1.0   \n",
       "\n",
       "      DeviceProtection_Yes  TechSupport_Yes  StreamingTV_Yes  \\\n",
       "1214                   0.0              0.0              0.0   \n",
       "827                    0.0              0.0              0.0   \n",
       "6266                   1.0              0.0              0.0   \n",
       "1010                   0.0              0.0              0.0   \n",
       "4397                   1.0              1.0              1.0   \n",
       "\n",
       "      StreamingMovies_Yes  MultipleLines_Yes  \n",
       "1214                  1.0                1.0  \n",
       "827                   0.0                1.0  \n",
       "6266                  0.0                1.0  \n",
       "1010                  0.0                0.0  \n",
       "4397                  0.0                1.0  \n",
       "\n",
       "[5 rows x 21 columns]"
      ]
     },
     "execution_count": 53,
     "metadata": {},
     "output_type": "execute_result"
    }
   ],
   "source": [
    "# drop='first' удаляет первый признак из закодированных:\n",
    "# таким образом обходим dummy-ловушку\n",
    "# задаём handle_unknown='ignore':\n",
    "# игнорируется ранее невстречающиеся значения признака (при transform)\n",
    "encoder_ohe = OneHotEncoder(drop='first', handle_unknown='ignore', sparse=False)\n",
    "\n",
    "# обучаем энкодер на заданных категориальных признаках тренировочной выборки\n",
    "encoder_ohe.fit(X_train_ohe[ohe_features])\n",
    "\n",
    "# добавляем закодированные признаки в X_train_ohe\n",
    "# encoder_ohe.get_feature_names_out() позволяет получить названия колонок\n",
    "X_train_ohe[encoder_ohe.get_feature_names_out()] = encoder_ohe.transform(X_train_ohe[ohe_features])\n",
    "\n",
    "# удаляем незакодированные категориальные признаки (изначальные колонки)\n",
    "X_train_ohe = X_train_ohe.drop(ohe_features, axis=1)\n",
    "\n",
    "X_train_ohe_scaler = X_train_ohe.copy()\n",
    "\n",
    "# создаём скелер\n",
    "scaler = StandardScaler()\n",
    "\n",
    "# обучаем его на численных признаках тренировочной выборки, трансформируем её же\n",
    "X_train_ohe_scaler[num_features] = scaler.fit_transform(X_train_ohe[num_features])\n",
    "\n",
    "# смотрим на результат\n",
    "X_train_ohe_scaler.head()"
   ]
  },
  {
   "cell_type": "code",
   "execution_count": 55,
   "id": "7ccf6d9f-d0af-4eb3-b427-76691a8ad32f",
   "metadata": {},
   "outputs": [
    {
     "data": {
      "text/html": [
       "<div>\n",
       "<style scoped>\n",
       "    .dataframe tbody tr th:only-of-type {\n",
       "        vertical-align: middle;\n",
       "    }\n",
       "\n",
       "    .dataframe tbody tr th {\n",
       "        vertical-align: top;\n",
       "    }\n",
       "\n",
       "    .dataframe thead th {\n",
       "        text-align: right;\n",
       "    }\n",
       "</style>\n",
       "<table border=\"1\" class=\"dataframe\">\n",
       "  <thead>\n",
       "    <tr style=\"text-align: right;\">\n",
       "      <th></th>\n",
       "      <th>TotalCharges</th>\n",
       "      <th>Time</th>\n",
       "      <th>Type_One year</th>\n",
       "      <th>Type_Two year</th>\n",
       "      <th>PaperlessBilling_Yes</th>\n",
       "      <th>PaymentMethod_Credit card (automatic)</th>\n",
       "      <th>PaymentMethod_Electronic check</th>\n",
       "      <th>PaymentMethod_Mailed check</th>\n",
       "      <th>gender_Male</th>\n",
       "      <th>SeniorCitizen_1</th>\n",
       "      <th>...</th>\n",
       "      <th>Dependents_Yes</th>\n",
       "      <th>InternetService_Fiber optic</th>\n",
       "      <th>InternetService_No</th>\n",
       "      <th>OnlineSecurity_Yes</th>\n",
       "      <th>OnlineBackup_Yes</th>\n",
       "      <th>DeviceProtection_Yes</th>\n",
       "      <th>TechSupport_Yes</th>\n",
       "      <th>StreamingTV_Yes</th>\n",
       "      <th>StreamingMovies_Yes</th>\n",
       "      <th>MultipleLines_Yes</th>\n",
       "    </tr>\n",
       "  </thead>\n",
       "  <tbody>\n",
       "    <tr>\n",
       "      <th>1340</th>\n",
       "      <td>-0.992164</td>\n",
       "      <td>-1.306047</td>\n",
       "      <td>0.0</td>\n",
       "      <td>1.0</td>\n",
       "      <td>0.0</td>\n",
       "      <td>1.0</td>\n",
       "      <td>0.0</td>\n",
       "      <td>0.0</td>\n",
       "      <td>0.0</td>\n",
       "      <td>0.0</td>\n",
       "      <td>...</td>\n",
       "      <td>1.0</td>\n",
       "      <td>0.0</td>\n",
       "      <td>0.0</td>\n",
       "      <td>1.0</td>\n",
       "      <td>1.0</td>\n",
       "      <td>1.0</td>\n",
       "      <td>1.0</td>\n",
       "      <td>1.0</td>\n",
       "      <td>0.0</td>\n",
       "      <td>0.0</td>\n",
       "    </tr>\n",
       "    <tr>\n",
       "      <th>138</th>\n",
       "      <td>-0.446538</td>\n",
       "      <td>1.237050</td>\n",
       "      <td>0.0</td>\n",
       "      <td>1.0</td>\n",
       "      <td>1.0</td>\n",
       "      <td>0.0</td>\n",
       "      <td>0.0</td>\n",
       "      <td>1.0</td>\n",
       "      <td>1.0</td>\n",
       "      <td>0.0</td>\n",
       "      <td>...</td>\n",
       "      <td>1.0</td>\n",
       "      <td>0.0</td>\n",
       "      <td>1.0</td>\n",
       "      <td>0.0</td>\n",
       "      <td>0.0</td>\n",
       "      <td>0.0</td>\n",
       "      <td>0.0</td>\n",
       "      <td>0.0</td>\n",
       "      <td>0.0</td>\n",
       "      <td>0.0</td>\n",
       "    </tr>\n",
       "    <tr>\n",
       "      <th>4357</th>\n",
       "      <td>-0.835148</td>\n",
       "      <td>-0.636965</td>\n",
       "      <td>0.0</td>\n",
       "      <td>0.0</td>\n",
       "      <td>0.0</td>\n",
       "      <td>1.0</td>\n",
       "      <td>0.0</td>\n",
       "      <td>0.0</td>\n",
       "      <td>0.0</td>\n",
       "      <td>0.0</td>\n",
       "      <td>...</td>\n",
       "      <td>0.0</td>\n",
       "      <td>0.0</td>\n",
       "      <td>1.0</td>\n",
       "      <td>0.0</td>\n",
       "      <td>0.0</td>\n",
       "      <td>0.0</td>\n",
       "      <td>0.0</td>\n",
       "      <td>0.0</td>\n",
       "      <td>0.0</td>\n",
       "      <td>0.0</td>\n",
       "    </tr>\n",
       "    <tr>\n",
       "      <th>1776</th>\n",
       "      <td>-0.129974</td>\n",
       "      <td>1.901740</td>\n",
       "      <td>0.0</td>\n",
       "      <td>1.0</td>\n",
       "      <td>1.0</td>\n",
       "      <td>0.0</td>\n",
       "      <td>0.0</td>\n",
       "      <td>0.0</td>\n",
       "      <td>1.0</td>\n",
       "      <td>1.0</td>\n",
       "      <td>...</td>\n",
       "      <td>0.0</td>\n",
       "      <td>0.0</td>\n",
       "      <td>1.0</td>\n",
       "      <td>0.0</td>\n",
       "      <td>0.0</td>\n",
       "      <td>0.0</td>\n",
       "      <td>0.0</td>\n",
       "      <td>0.0</td>\n",
       "      <td>0.0</td>\n",
       "      <td>1.0</td>\n",
       "    </tr>\n",
       "    <tr>\n",
       "      <th>3509</th>\n",
       "      <td>-0.970022</td>\n",
       "      <td>-1.260661</td>\n",
       "      <td>0.0</td>\n",
       "      <td>0.0</td>\n",
       "      <td>1.0</td>\n",
       "      <td>0.0</td>\n",
       "      <td>0.0</td>\n",
       "      <td>1.0</td>\n",
       "      <td>1.0</td>\n",
       "      <td>0.0</td>\n",
       "      <td>...</td>\n",
       "      <td>0.0</td>\n",
       "      <td>0.0</td>\n",
       "      <td>0.0</td>\n",
       "      <td>0.0</td>\n",
       "      <td>0.0</td>\n",
       "      <td>0.0</td>\n",
       "      <td>0.0</td>\n",
       "      <td>0.0</td>\n",
       "      <td>0.0</td>\n",
       "      <td>0.0</td>\n",
       "    </tr>\n",
       "  </tbody>\n",
       "</table>\n",
       "<p>5 rows × 21 columns</p>\n",
       "</div>"
      ],
      "text/plain": [
       "      TotalCharges      Time  Type_One year  Type_Two year  \\\n",
       "1340     -0.992164 -1.306047            0.0            1.0   \n",
       "138      -0.446538  1.237050            0.0            1.0   \n",
       "4357     -0.835148 -0.636965            0.0            0.0   \n",
       "1776     -0.129974  1.901740            0.0            1.0   \n",
       "3509     -0.970022 -1.260661            0.0            0.0   \n",
       "\n",
       "      PaperlessBilling_Yes  PaymentMethod_Credit card (automatic)  \\\n",
       "1340                   0.0                                    1.0   \n",
       "138                    1.0                                    0.0   \n",
       "4357                   0.0                                    1.0   \n",
       "1776                   1.0                                    0.0   \n",
       "3509                   1.0                                    0.0   \n",
       "\n",
       "      PaymentMethod_Electronic check  PaymentMethod_Mailed check  gender_Male  \\\n",
       "1340                             0.0                         0.0          0.0   \n",
       "138                              0.0                         1.0          1.0   \n",
       "4357                             0.0                         0.0          0.0   \n",
       "1776                             0.0                         0.0          1.0   \n",
       "3509                             0.0                         1.0          1.0   \n",
       "\n",
       "      SeniorCitizen_1  ...  Dependents_Yes  InternetService_Fiber optic  \\\n",
       "1340              0.0  ...             1.0                          0.0   \n",
       "138               0.0  ...             1.0                          0.0   \n",
       "4357              0.0  ...             0.0                          0.0   \n",
       "1776              1.0  ...             0.0                          0.0   \n",
       "3509              0.0  ...             0.0                          0.0   \n",
       "\n",
       "      InternetService_No  OnlineSecurity_Yes  OnlineBackup_Yes  \\\n",
       "1340                 0.0                 1.0               1.0   \n",
       "138                  1.0                 0.0               0.0   \n",
       "4357                 1.0                 0.0               0.0   \n",
       "1776                 1.0                 0.0               0.0   \n",
       "3509                 0.0                 0.0               0.0   \n",
       "\n",
       "      DeviceProtection_Yes  TechSupport_Yes  StreamingTV_Yes  \\\n",
       "1340                   1.0              1.0              1.0   \n",
       "138                    0.0              0.0              0.0   \n",
       "4357                   0.0              0.0              0.0   \n",
       "1776                   0.0              0.0              0.0   \n",
       "3509                   0.0              0.0              0.0   \n",
       "\n",
       "      StreamingMovies_Yes  MultipleLines_Yes  \n",
       "1340                  0.0                0.0  \n",
       "138                   0.0                0.0  \n",
       "4357                  0.0                0.0  \n",
       "1776                  0.0                1.0  \n",
       "3509                  0.0                0.0  \n",
       "\n",
       "[5 rows x 21 columns]"
      ]
     },
     "execution_count": 55,
     "metadata": {},
     "output_type": "execute_result"
    }
   ],
   "source": [
    "# энкодером, который обучен на ТРЕНИРОВОЧНОЙ ВЫБОРКЕ, кодируем тестовую\n",
    "X_test_ohe[encoder_ohe.get_feature_names_out()] = encoder_ohe.transform(X_test_ohe[ohe_features])\n",
    "\n",
    "X_test_ohe = X_test_ohe.drop(ohe_features, axis=1)\n",
    "\n",
    "X_test_ohe_scaler = X_test_ohe.copy()\n",
    "# скелером, который обучен на ТРЕНИРОВОЧНОЙ ВЫБОРКЕ, масштабируем тестовую\n",
    "X_test_ohe_scaler[num_features] = scaler.transform(X_test_ohe[num_features])\n",
    "\n",
    "# смотрим на результат\n",
    "X_test_ohe_scaler.head()"
   ]
  },
  {
   "cell_type": "markdown",
   "id": "5e2405d3-d105-46a1-b63e-2c68dac47c1e",
   "metadata": {},
   "source": [
    "## Обучение моделей"
   ]
  },
  {
   "cell_type": "markdown",
   "id": "90e8fff2-9590-4a15-9f5b-f14eba5c1046",
   "metadata": {},
   "source": [
    "* LogisticRegression"
   ]
  },
  {
   "cell_type": "code",
   "execution_count": 99,
   "id": "64b73f0c-f171-48a1-bae7-958a4a7f0244",
   "metadata": {},
   "outputs": [
    {
     "name": "stdout",
     "output_type": "stream",
     "text": [
      "Лучшие гиперпараметры:  {'C': 1}\n",
      "ROC-AUC LogisticRegression:  0.7699398570392149\n",
      "CPU times: total: 609 ms\n",
      "Wall time: 13.8 s\n"
     ]
    }
   ],
   "source": [
    "%%time\n",
    "param_grid = {'C': [0.001, 0.01, 0.1, 1, 10, 100, 1000]}\n",
    "\n",
    "model = LogisticRegression(solver='lbfgs', n_jobs=-1, random_state=RANDOM_SEED)\n",
    "\n",
    "search_lr = GridSearchCV(model, param_grid, cv=5, scoring='roc_auc')\n",
    "search_lr.fit(X_train_ohe_scaler, y_train)\n",
    "\n",
    "results = search_lr.cv_results_\n",
    "best_index = search_lr.best_index_\n",
    "score_lr = results['mean_test_score'][best_index] \n",
    "print('Лучшие гиперпараметры: ', search_lr.best_params_)\n",
    "print('ROC-AUC LogisticRegression: ', score_lr)"
   ]
  },
  {
   "cell_type": "markdown",
   "id": "d3db6496-6ef0-4306-9d62-afbccace77cb",
   "metadata": {},
   "source": [
    "* RandomForestClassifier"
   ]
  },
  {
   "cell_type": "code",
   "execution_count": 101,
   "id": "f2c8144f-3f8d-425a-a5e7-d538e4d94806",
   "metadata": {},
   "outputs": [
    {
     "name": "stdout",
     "output_type": "stream",
     "text": [
      "Лучшие гиперпараметры:  {'max_depth': 10, 'min_samples_leaf': 10, 'min_samples_split': 2, 'n_estimators': 100}\n",
      "ROC-AUC RandomForest:  0.8251786787492744\n",
      "CPU times: total: 2min 30s\n",
      "Wall time: 2min 31s\n"
     ]
    }
   ],
   "source": [
    "%%time\n",
    "param_grid = {\n",
    "    'max_depth': [5, 10, 20],\n",
    "    'min_samples_split': [1, 2, 10],\n",
    "    'min_samples_leaf': [1, 2, 10],\n",
    "    'n_estimators': [10, 50, 100,150], \n",
    "}\n",
    "\n",
    "model = RandomForestClassifier(random_state=RANDOM_SEED, class_weight = 'balanced')\n",
    "\n",
    "search_rf = GridSearchCV(model, param_grid, cv=5, scoring='roc_auc')\n",
    "search_rf.fit(X_train_ohe, y_train)\n",
    "\n",
    "results = search_rf.cv_results_\n",
    "best_index = search_rf.best_index_\n",
    "score_rf = results['mean_test_score'][best_index] \n",
    "print('Лучшие гиперпараметры: ', search_rf.best_params_)\n",
    "print('ROC-AUC RandomForest: ', score_rf)"
   ]
  },
  {
   "cell_type": "markdown",
   "id": "b80a0820-c703-42f3-82f7-f523a580afc8",
   "metadata": {},
   "source": [
    "* CatBoostClassifier"
   ]
  },
  {
   "cell_type": "code",
   "execution_count": 108,
   "id": "385d5164-5b49-420c-9978-61f78032ec1e",
   "metadata": {},
   "outputs": [
    {
     "name": "stdout",
     "output_type": "stream",
     "text": [
      "Лучшие гиперпараметры:  {'depth': 5, 'learning_rate': 0.1}\n",
      "ROC-AUC СatBoost:  0.9030676002479844\n",
      "CPU times: total: 1min 41s\n",
      "Wall time: 8min 15s\n"
     ]
    }
   ],
   "source": [
    "%%time\n",
    "catboost = CatBoostClassifier(cat_features = ohe_features, random_state=RANDOM_SEED, verbose=False)\n",
    "\n",
    "parameters = {'depth':[5,10], 'learning_rate':np.arange(0.1,1,0.2)}\n",
    "\n",
    "search_catboost = GridSearchCV(catboost, parameters, cv=3, n_jobs=-1, scoring='roc_auc')\n",
    "search_catboost.fit(X_train, y_train);    \n",
    "        \n",
    "results = search_catboost.cv_results_\n",
    "best_index = search_catboost.best_index_\n",
    "score_cat = results['mean_test_score'][best_index] \n",
    "print('Лучшие гиперпараметры: ', search_catboost.best_params_)\n",
    "print('ROC-AUC СatBoost: ', score_cat)"
   ]
  },
  {
   "cell_type": "markdown",
   "id": "41966a47-dc64-4467-98c9-3e062e9d4267",
   "metadata": {},
   "source": [
    "## Тестирование лучшей модели"
   ]
  },
  {
   "cell_type": "markdown",
   "id": "5bb38247-d84f-475d-9a50-0763dd1f93ed",
   "metadata": {},
   "source": [
    "Самые лучшие результаты у модели СatBoost, протестируем ее"
   ]
  },
  {
   "cell_type": "code",
   "execution_count": 121,
   "id": "07b583d8-fa0d-44dc-8717-c0218184774d",
   "metadata": {},
   "outputs": [
    {
     "name": "stdout",
     "output_type": "stream",
     "text": [
      "AUC ROC на тесте:  0.922938074085408\n"
     ]
    },
    {
     "data": {
      "image/png": "[encoded data removed]",
      "text/plain": [
       "<Figure size 640x480 with 1 Axes>"
      ]
     },
     "metadata": {},
     "output_type": "display_data"
    }
   ],
   "source": [
    "predicted_probalities = search_catboost.predict_proba(X_test)[:, 1]\n",
    "auc_roc = roc_auc_score(y_test, predicted_probalities)\n",
    "print('AUC ROC на тесте: ', auc_roc)\n",
    "\n",
    "fpr, tpr, thresholds = roc_curve(y_test, predicted_probalities) \n",
    "plt.figure()\n",
    "plt.plot(fpr, tpr)\n",
    "plt.plot([0, 1], [0, 1], linestyle='--')\n",
    "plt.xlim([0.0, 1.0])\n",
    "plt.ylim([0.0, 1.0])\n",
    "plt.xlabel('False Positive Rate')\n",
    "plt.ylabel('True Positive Rate')\n",
    "plt.title('ROC-кривая')\n",
    "plt.show()"
   ]
  },
  {
   "cell_type": "markdown",
   "id": "972a4786-bc27-44ae-9eae-4821a28e17ab",
   "metadata": {},
   "source": [
    "* Анализ важности признаков"
   ]
  },
  {
   "cell_type": "code",
   "execution_count": 124,
   "id": "226c98ab-bfc2-40fa-8b49-5c120699e7bb",
   "metadata": {},
   "outputs": [
    {
     "data": {
      "text/html": [
       "<div>\n",
       "<style scoped>\n",
       "    .dataframe tbody tr th:only-of-type {\n",
       "        vertical-align: middle;\n",
       "    }\n",
       "\n",
       "    .dataframe tbody tr th {\n",
       "        vertical-align: top;\n",
       "    }\n",
       "\n",
       "    .dataframe thead th {\n",
       "        text-align: right;\n",
       "    }\n",
       "</style>\n",
       "<table border=\"1\" class=\"dataframe\">\n",
       "  <thead>\n",
       "    <tr style=\"text-align: right;\">\n",
       "      <th></th>\n",
       "      <th>importances</th>\n",
       "    </tr>\n",
       "  </thead>\n",
       "  <tbody>\n",
       "    <tr>\n",
       "      <th>Time</th>\n",
       "      <td>47.719403</td>\n",
       "    </tr>\n",
       "    <tr>\n",
       "      <th>TotalCharges</th>\n",
       "      <td>13.298927</td>\n",
       "    </tr>\n",
       "    <tr>\n",
       "      <th>Type</th>\n",
       "      <td>9.558329</td>\n",
       "    </tr>\n",
       "    <tr>\n",
       "      <th>PaymentMethod</th>\n",
       "      <td>6.085041</td>\n",
       "    </tr>\n",
       "    <tr>\n",
       "      <th>InternetService</th>\n",
       "      <td>4.468473</td>\n",
       "    </tr>\n",
       "    <tr>\n",
       "      <th>Partner</th>\n",
       "      <td>3.239674</td>\n",
       "    </tr>\n",
       "    <tr>\n",
       "      <th>MultipleLines</th>\n",
       "      <td>2.713248</td>\n",
       "    </tr>\n",
       "    <tr>\n",
       "      <th>StreamingMovies</th>\n",
       "      <td>1.815062</td>\n",
       "    </tr>\n",
       "    <tr>\n",
       "      <th>Dependents</th>\n",
       "      <td>1.644144</td>\n",
       "    </tr>\n",
       "    <tr>\n",
       "      <th>gender</th>\n",
       "      <td>1.453205</td>\n",
       "    </tr>\n",
       "    <tr>\n",
       "      <th>OnlineBackup</th>\n",
       "      <td>1.425465</td>\n",
       "    </tr>\n",
       "    <tr>\n",
       "      <th>DeviceProtection</th>\n",
       "      <td>1.282777</td>\n",
       "    </tr>\n",
       "    <tr>\n",
       "      <th>PaperlessBilling</th>\n",
       "      <td>1.247195</td>\n",
       "    </tr>\n",
       "    <tr>\n",
       "      <th>SeniorCitizen</th>\n",
       "      <td>1.220855</td>\n",
       "    </tr>\n",
       "    <tr>\n",
       "      <th>OnlineSecurity</th>\n",
       "      <td>1.137298</td>\n",
       "    </tr>\n",
       "    <tr>\n",
       "      <th>TechSupport</th>\n",
       "      <td>0.921898</td>\n",
       "    </tr>\n",
       "    <tr>\n",
       "      <th>StreamingTV</th>\n",
       "      <td>0.769005</td>\n",
       "    </tr>\n",
       "  </tbody>\n",
       "</table>\n",
       "</div>"
      ],
      "text/plain": [
       "                  importances\n",
       "Time                47.719403\n",
       "TotalCharges        13.298927\n",
       "Type                 9.558329\n",
       "PaymentMethod        6.085041\n",
       "InternetService      4.468473\n",
       "Partner              3.239674\n",
       "MultipleLines        2.713248\n",
       "StreamingMovies      1.815062\n",
       "Dependents           1.644144\n",
       "gender               1.453205\n",
       "OnlineBackup         1.425465\n",
       "DeviceProtection     1.282777\n",
       "PaperlessBilling     1.247195\n",
       "SeniorCitizen        1.220855\n",
       "OnlineSecurity       1.137298\n",
       "TechSupport          0.921898\n",
       "StreamingTV          0.769005"
      ]
     },
     "execution_count": 124,
     "metadata": {},
     "output_type": "execute_result"
    }
   ],
   "source": [
    "df_importances = pd.DataFrame(search_catboost.best_estimator_.feature_importances_, index = X_test.columns, columns=['importances'])\n",
    "df_importances = df_importances.sort_values(by='importances', ascending=False)\n",
    "df_importances"
   ]
  },
  {
   "cell_type": "code",
   "execution_count": 126,
   "id": "344766eb-41e9-4405-bde2-d23972912aea",
   "metadata": {},
   "outputs": [
    {
     "data": {
      "image/png": "[encoded data removed]",
      "text/plain": [
       "<Figure size 640x480 with 1 Axes>"
      ]
     },
     "metadata": {},
     "output_type": "display_data"
    }
   ],
   "source": [
    "sns.barplot(y=df_importances.index, x=df_importances['importances']);"
   ]
  },
  {
   "cell_type": "markdown",
   "id": "ba03c2e9",
   "metadata": {},
   "source": [
    "Получили, что на лояльность клиентов виляет время использования услуг. Как правило, чем дольше мы пользуемся услугами компании, тем меньше вероятность что мы уже уйдем оттуда.  \n",
    "Второй признак - суммарные расходы, что логично, ведь получается, что человек тоже долго является абонентом сотового оператора.  \n",
    "Третий признак - тип оплаты(ежемесячный, годвой)  \n",
    "Затем идут признаки, отвечающие за способ оплаты, наличие интернета и т.д."
   ]
  },
  {
   "cell_type": "markdown",
   "id": "20efd23b-7829-4641-b457-ffad6128ebe7",
   "metadata": {},
   "source": [
    "* Матрица ошибок"
   ]
  },
  {
   "cell_type": "code",
   "execution_count": 131,
   "id": "b1462ebd-9da9-4d8f-acff-3c551cc1569d",
   "metadata": {},
   "outputs": [],
   "source": [
    "predictions_test = search_catboost.predict(X_test)"
   ]
  },
  {
   "cell_type": "code",
   "execution_count": 135,
   "id": "3bc40282-d98e-455a-9ea3-53a1f038642a",
   "metadata": {
    "scrolled": true
   },
   "outputs": [
    {
     "data": {
      "image/png": "[encoded data removed]",
      "text/plain": [
       "<Figure size 400x400 with 2 Axes>"
      ]
     },
     "metadata": {},
     "output_type": "display_data"
    }
   ],
   "source": [
    "cmatrix = confusion_matrix(y_test, predictions_test)\n",
    "plt.figure(figsize=(4, 4))\n",
    "sns.heatmap(cmatrix, \n",
    "            annot=True,  \n",
    "            cmap='Blues', \n",
    "            fmt='d').set(title='Матрица ошибок', xlabel='Предсказания', ylabel='Правильные ответы')\n",
    "plt.show()"
   ]
  },
  {
   "cell_type": "code",
   "execution_count": 139,
   "id": "e176fe1d-b91d-4024-8e36-e3671ffee039",
   "metadata": {
    "scrolled": true
   },
   "outputs": [
    {
     "name": "stdout",
     "output_type": "stream",
     "text": [
      "F1 score 0.7331975560081465\n",
      "AUC ROC  0.922938074085408\n"
     ]
    }
   ],
   "source": [
    "f1 = f1_score(y_test, predictions_test)\n",
    "print('F1 score',f1)\n",
    "print('AUC ROC ',auc_roc)"
   ]
  },
  {
   "cell_type": "markdown",
   "id": "889b89ef",
   "metadata": {},
   "source": [
    "F1 score получилось не очень большой. Модель 103 раза (1/3 от общего числа ушедших) предсказала,что человек останется, а он ушел -> для бизнеса это плохо, он теряет деньги. "
   ]
  },
  {
   "cell_type": "markdown",
   "id": "4259e311-7d1f-4f3e-92f9-c47c2a738608",
   "metadata": {},
   "source": [
    "## Отчет по работе"
   ]
  },
  {
   "cell_type": "markdown",
   "id": "2a74790e-1417-448b-b3f2-e1d33febd3b9",
   "metadata": {},
   "source": [
    "Наша задача состояла в том, чтобы предсказать, откажется ли клиент от услуг оператора, ведь в таком случае мы можем заранее предложить ему промокоды и спецпредложения.\n",
    "\n",
    "Все пункты плана были выполнены, а именно:\n",
    "\n",
    "* Изменили некоторые типы данных в таблице\n",
    "* Объединили таблицы по customer id, никакие данные не потеряли, там где пропуски, стоит Nan\n",
    "* Заполнили пропуски\n",
    "* Выделили целевой признак Exited и добавили новый столбец Time - сколько дней человек пользуется услушами компании. Удалили столбцы BeginDate,EndTime,MonthCharges так как у них есть корреляция с добавленными столбцами\n",
    "* Проанализированы количественные и категоральные признаки, проведена попытка найти связь между ними и целевым признаком. Получили, что со временем вероятность отказа от услуг снижается и обычно отказывались от услуг те, кто платил больше\n",
    "* Разделили данные на выборки c test_size = 0.25\n",
    "* Применили к выборками OHE для категориальных данных для линейной модели и модели случайного леса \n",
    "* Применили масштабирование численных данных для линейной модели\n",
    "* С помощью GridSearch подобрали лучшие гиперпараметры для LogisticRegressor RandomForestClassifier, CatBoostClassifier \n",
    "* Лучшей моделью стал **CatBoostClassifier** со значением целевой метрики AUC ROC=0.9 на кросс валидации и гиперпараметрами 'depth': 5, 'learning_rate': 0.1 , время обучения составило 8 минут\n",
    "* Протестировали лучшую модель. **Результаты: AUC ROC=0.92**\n",
    "* Важность признаков модели позволяет сделать следующий вывод: на лояльность клиентов влияет время использования услуг. Как правило, чем дольше мы пользуемся услугами компании, тем меньше вероятность что мы уже уйдем оттуда.  \n",
    "    Второй признак - суммарные расходы, что логично, ведь получается, что человек тоже долго является абонентом сотового оператора.  \n",
    "    Третий признак - тип оплаты(ежемесячный, годовой)  \n",
    "    Затем идут признаки, отвечающие за способ оплаты, наличие интернета и т.д.\n"
   ]
  }
 ],
 "metadata": {
  "ExecuteTimeLog": [
   {
    "duration": 3353,
    "start_time": "2023-05-12T15:04:16.616Z"
   },
   {
    "duration": 156,
    "start_time": "2023-05-12T15:04:21.709Z"
   },
   {
    "duration": 5,
    "start_time": "2023-05-12T15:04:22.472Z"
   },
   {
    "duration": 144,
    "start_time": "2023-05-12T15:04:27.840Z"
   },
   {
    "duration": 9,
    "start_time": "2023-05-12T15:04:33.101Z"
   },
   {
    "duration": 16,
    "start_time": "2023-05-12T15:04:33.388Z"
   },
   {
    "duration": 11,
    "start_time": "2023-05-12T15:04:33.748Z"
   },
   {
    "duration": 69,
    "start_time": "2023-05-12T15:04:35.284Z"
   },
   {
    "duration": 133,
    "start_time": "2023-05-12T15:04:36.354Z"
   },
   {
    "duration": 56,
    "start_time": "2023-05-12T15:04:37.355Z"
   },
   {
    "duration": 87,
    "start_time": "2023-05-14T22:43:06.599Z"
   },
   {
    "duration": 61,
    "start_time": "2023-05-14T22:43:40.595Z"
   },
   {
    "duration": 61,
    "start_time": "2023-05-14T22:52:31.935Z"
   }
  ],
  "kernelspec": {
   "display_name": "Python 3 (ipykernel)",
   "language": "python",
   "name": "python3"
  },
  "language_info": {
   "codemirror_mode": {
    "name": "ipython",
    "version": 3
   },
   "file_extension": ".py",
   "mimetype": "text/x-python",
   "name": "python",
   "nbconvert_exporter": "python",
   "pygments_lexer": "ipython3",
   "version": "3.9.12"
  },
  "toc": {
   "base_numbering": 1,
   "nav_menu": {},
   "number_sections": true,
   "sideBar": true,
   "skip_h1_title": true,
   "title_cell": "Содержание",
   "title_sidebar": "Contents",
   "toc_cell": true,
   "toc_position": {},
   "toc_section_display": true,
   "toc_window_display": true
  }
 },
 "nbformat": 4,
 "nbformat_minor": 5
}
